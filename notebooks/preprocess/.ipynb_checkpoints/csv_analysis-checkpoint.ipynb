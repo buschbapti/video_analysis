{
 "cells": [
  {
   "cell_type": "code",
   "execution_count": 1,
   "metadata": {},
   "outputs": [],
   "source": [
    "import pandas as pd\n",
    "from glob import glob\n",
    "import json"
   ]
  },
  {
   "cell_type": "code",
   "execution_count": 7,
   "metadata": {},
   "outputs": [],
   "source": [
    "def analyze_file(f, action_list, fixation_list):\n",
    "    result = {}\n",
    "    data = pd.read_csv(f, skiprows = range(15), usecols = ['Time', 'Behavior'])\n",
    "    \n",
    "    save_folder = '../../clean_annotations/'\n",
    "    data.to_csv(save_folder + f.split('/')[-1], index=False)\n",
    "    \n",
    "    prev_ea = None\n",
    "    prev_ef = None\n",
    "    fixations = {}\n",
    "    for index, row in data.iterrows():\n",
    "        if row['Behavior'] == 'MoveTask2':\n",
    "            tmp_dict = {}\n",
    "            tmp_dict['duration'] = row['Time'] - prev_ea['Time']\n",
    "            tmp_dict['start_time'] = prev_ea['Time']\n",
    "            # add current behavior but not finished to the fictiations\n",
    "            if not prev_ef['Behavior'] in result.keys():\n",
    "                fixations[prev_ef['Behavior']] = []\n",
    "            fict_dict = {}\n",
    "            fict_dict['duration'] = row['Time'] - prev_ef['Time']\n",
    "            fict_dict['start_time'] = prev_ef['Time']\n",
    "            fixations[prev_ef['Behavior']].append(fict_dict)\n",
    "            # add the fictiations to the behavior\n",
    "            tmp_dict['fixations'] = fixations\n",
    "            # for all the elements in fictiation calculate the ratio\n",
    "            for key, value in fixations.items():\n",
    "                for e in value:\n",
    "                    e['ratio'] = e['duration']/tmp_dict['duration']\n",
    "            result[prev_ea['Behavior']] = tmp_dict\n",
    "            return result\n",
    "        if row['Behavior'] in action_list:\n",
    "            if prev_ea is None:\n",
    "                prev_ea = row\n",
    "            else:\n",
    "                tmp_dict = {}\n",
    "                tmp_dict['duration'] = row['Time'] - prev_ea['Time']\n",
    "                tmp_dict['start_time'] = prev_ea['Time']\n",
    "                # add current behavior but not finished to the fictiations\n",
    "                if not prev_ef['Behavior'] in result.keys():\n",
    "                    fixations[prev_ef['Behavior']] = []\n",
    "                fict_dict = {}\n",
    "                fict_dict['duration'] = row['Time'] - prev_ef['Time']\n",
    "                fict_dict['start_time'] = prev_ef['Time']\n",
    "                fixations[prev_ef['Behavior']].append(fict_dict)\n",
    "                # for all the elements in fictiation calculate the ratio\n",
    "                for key, value in fixations.items():\n",
    "                    for e in value:\n",
    "                        e['ratio'] = e['duration']/tmp_dict['duration']\n",
    "                # add the fictiations to the behavior\n",
    "                tmp_dict['fixations'] = fixations\n",
    "                result[prev_ea['Behavior']] = tmp_dict\n",
    "                # reset elements\n",
    "                prev_ea = row\n",
    "                prev_ef['Time'] = row['Time']\n",
    "                fixations = {}\n",
    "        elif row['Behavior'] in fixation_list:\n",
    "            if prev_ef is None:\n",
    "                prev_ef = row\n",
    "            else:\n",
    "                if not prev_ef['Behavior'] in fixations.keys():\n",
    "                    fixations[prev_ef['Behavior']] = []\n",
    "                tmp_dict = {}\n",
    "                tmp_dict['duration'] = row['Time'] - prev_ef['Time']\n",
    "                tmp_dict['start_time'] = prev_ef['Time']\n",
    "                fixations[prev_ef['Behavior']].append(tmp_dict)\n",
    "                prev_ef = row\n",
    "    return result"
   ]
  },
  {
   "cell_type": "code",
   "execution_count": 8,
   "metadata": {},
   "outputs": [],
   "source": [
    "files = glob('../../annotations/*.csv')"
   ]
  },
  {
   "cell_type": "code",
   "execution_count": 9,
   "metadata": {},
   "outputs": [],
   "source": [
    "id_list = []\n",
    "for f in files:\n",
    "    id_list.append(f.split('_')[0].split('/')[-1])\n",
    "id_list = list(set(id_list))"
   ]
  },
  {
   "cell_type": "code",
   "execution_count": 10,
   "metadata": {},
   "outputs": [],
   "source": [
    "action_list = ['MoveUp', 'MoveDown', 'Move', 'Regrasp', 'Place', 'MoveTask2']\n",
    "fixation_list = ['RHand', 'LHand', 'Head', 'Torso', 'Direction', 'Object', 'VisualServoing']\n",
    "json_folder = '../../json/'\n",
    "for idx in id_list:\n",
    "    csv_files = glob('../../annotations/' + idx + '_*.csv')\n",
    "    csv_files.sort()\n",
    "    results = {}\n",
    "    for f in csv_files:\n",
    "        results = analyze_file(f, action_list, fixation_list)\n",
    "        with open(json_folder + f.split('/')[-1][:-4] + '.json', \"w\") as write_file:\n",
    "            json.dump(results, write_file, indent=4)"
   ]
  },
  {
   "cell_type": "code",
   "execution_count": null,
   "metadata": {},
   "outputs": [],
   "source": []
  }
 ],
 "metadata": {
  "kernelspec": {
   "display_name": "Python 3",
   "language": "python",
   "name": "python3"
  },
  "language_info": {
   "codemirror_mode": {
    "name": "ipython",
    "version": 3
   },
   "file_extension": ".py",
   "mimetype": "text/x-python",
   "name": "python",
   "nbconvert_exporter": "python",
   "pygments_lexer": "ipython3",
   "version": "3.7.2"
  }
 },
 "nbformat": 4,
 "nbformat_minor": 2
}
