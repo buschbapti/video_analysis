{
 "cells": [
  {
   "cell_type": "code",
   "execution_count": 1,
   "metadata": {},
   "outputs": [],
   "source": [
    "import pandas as pd\n",
    "import numpy as np\n",
    "from os.path import join"
   ]
  },
  {
   "cell_type": "code",
   "execution_count": 2,
   "metadata": {},
   "outputs": [],
   "source": [
    "csv_folder = '../csv_data'\n",
    "prior = pd.read_csv(join(csv_folder, 'perception_prior.csv'))\n",
    "after = pd.read_csv(join(csv_folder, 'perception_after.csv'))"
   ]
  },
  {
   "cell_type": "code",
   "execution_count": 3,
   "metadata": {},
   "outputs": [],
   "source": [
    "idlist1 = list(prior[\"ID\"])\n",
    "idlist2 = list(after[\"ID\"])\n",
    "assert(np.array_equal(np.sort(idlist1), np.sort(idlist2)))"
   ]
  },
  {
   "cell_type": "code",
   "execution_count": 4,
   "metadata": {},
   "outputs": [],
   "source": [
    "perception_header = list(prior)\n",
    "diff_perception = pd.DataFrame(columns=perception_header)\n",
    "for idx in idlist1:\n",
    "    idx_prior = prior.loc[prior[\"ID\"] == idx]\n",
    "    idx_after = after.loc[after[\"ID\"] == idx]\n",
    "    group_id = list(idx_prior[[\"group\", \"group_merged\"]].values[0])\n",
    "    diff = list(idx_after.values[0][4:] - idx_prior.values[0][4:])\n",
    "    diff_perception.loc[-1] = [2] + group_id + [idx] + diff\n",
    "    diff_perception.index = diff_perception.index + 1"
   ]
  },
  {
   "cell_type": "code",
   "execution_count": 5,
   "metadata": {},
   "outputs": [],
   "source": [
    "diff_perception.to_csv(join(csv_folder, 'perception_diff.csv'), index=False)"
   ]
  },
  {
   "cell_type": "code",
   "execution_count": null,
   "metadata": {},
   "outputs": [],
   "source": []
  }
 ],
 "metadata": {
  "kernelspec": {
   "display_name": "Python 2",
   "language": "python",
   "name": "python2"
  },
  "language_info": {
   "codemirror_mode": {
    "name": "ipython",
    "version": 2
   },
   "file_extension": ".py",
   "mimetype": "text/x-python",
   "name": "python",
   "nbconvert_exporter": "python",
   "pygments_lexer": "ipython2",
   "version": "2.7.15"
  },
  "widgets": {
   "state": {},
   "version": "1.1.2"
  }
 },
 "nbformat": 4,
 "nbformat_minor": 2
}
