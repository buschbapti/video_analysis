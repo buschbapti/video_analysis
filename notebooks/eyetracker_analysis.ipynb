{
 "cells": [
  {
   "cell_type": "code",
   "execution_count": null,
   "metadata": {},
   "outputs": [],
   "source": [
    "import json\n",
    "from glob import glob\n",
    "import numpy as np\n",
    "\n",
    "from bokeh.io import show, output_notebook\n",
    "from bokeh.plotting import figure, gridplot\n",
    "from bokeh.models import ColumnDataSource, Whisker\n",
    "from bokeh.models import Range1d\n",
    "from bokeh.sampledata.autompg import autompg as df"
   ]
  },
  {
   "cell_type": "code",
   "execution_count": null,
   "metadata": {},
   "outputs": [],
   "source": [
    "output_notebook()"
   ]
  },
  {
   "cell_type": "code",
   "execution_count": null,
   "metadata": {},
   "outputs": [],
   "source": [
    "def concatenate_results(results, new_res):\n",
    "    if not 'total' in results['events']:\n",
    "        results['events']['total'] = {}\n",
    "    for event, dict_event in new_res.items():\n",
    "        if not event in results['events']:\n",
    "            results['events'][event] = {}\n",
    "        for key, value in dict_event['fixations'].items():\n",
    "            if not key in results['events']['total']:\n",
    "                results['events']['total'][key] = {}\n",
    "                results['events']['total'][key]['data'] = []\n",
    "            if not key in results['events'][event]:\n",
    "                results['events'][event][key] = {}\n",
    "                results['events'][event][key]['data'] = []\n",
    "            tmp = 0\n",
    "            for fix in value:\n",
    "                tmp = tmp +  fix['ratio']\n",
    "            results['events'][event][key]['data'].append(tmp)\n",
    "            results['events']['total'][key]['data'].append(tmp)\n",
    "    return results"
   ]
  },
  {
   "cell_type": "code",
   "execution_count": null,
   "metadata": {},
   "outputs": [],
   "source": [
    "def style(p):\n",
    "    # Title \n",
    "    p.title.align = 'center'\n",
    "    p.y_range = Range1d(-0.2, 1.0)\n",
    "    p.xaxis.ticker = [1, 2, 3]\n",
    "    return p"
   ]
  },
  {
   "cell_type": "code",
   "execution_count": null,
   "metadata": {},
   "outputs": [],
   "source": [
    "def create_grid(disp_event, disp_fix):\n",
    "    figures = []\n",
    "    for e in disp_event:\n",
    "        for f in disp_fix:      \n",
    "                s = figure(plot_width=400, plot_height=200, title=e + \"_\" + f)\n",
    "                lower = []\n",
    "                upper = []\n",
    "                base = [1,2,3]\n",
    "                for sess in keys[1:]:\n",
    "                    if f in results[sess]['events'][e].keys():\n",
    "                        lower.append(results[sess]['events'][e][f]['mean'] - results[sess]['events'][e][f]['std'])\n",
    "                        upper.append(results[sess]['events'][e][f]['mean'] + results[sess]['events'][e][f]['std'])\n",
    "                    else:\n",
    "                        lower.append(0)\n",
    "                        upper.append(0)\n",
    "\n",
    "                source_error = ColumnDataSource(data=dict(base=base, lower=lower, upper=upper))\n",
    "                s.add_layout(\n",
    "                    Whisker(source=source_error, base=\"base\", upper=\"upper\", lower=\"lower\")\n",
    "                )\n",
    "\n",
    "                for i, sess in enumerate(keys[1:]):\n",
    "                    if f in results[sess]['events'][e].keys():\n",
    "                        y = results[sess]['events'][e][f]['data']\n",
    "                        color = colors[i % len(colors)]\n",
    "                        s.circle(x=base[i], y=y, color=color)\n",
    "                s = style(s)\n",
    "                figures.append(s)\n",
    "    return gridplot(figures, ncols=2)"
   ]
  },
  {
   "cell_type": "code",
   "execution_count": null,
   "metadata": {},
   "outputs": [],
   "source": [
    "files = glob('../data/eyetracker/json/*.json')"
   ]
  },
  {
   "cell_type": "code",
   "execution_count": null,
   "metadata": {},
   "outputs": [],
   "source": [
    "data = {}\n",
    "for f in files:\n",
    "    with open(f) as datafile:\n",
    "        d = json.load(datafile)\n",
    "    tmp = f.split('/')[-1][:-5].split('_')\n",
    "    if not tmp[0] in data:\n",
    "        data[tmp[0]] = {}\n",
    "    data[tmp[0]][tmp[1]] = d"
   ]
  },
  {
   "cell_type": "code",
   "execution_count": null,
   "metadata": {},
   "outputs": [],
   "source": [
    "results = {}\n",
    "keys = ['00', '11', '12', '13', ]\n",
    "for k in keys:\n",
    "    results[k] = {}\n",
    "    results[k]['nb_subjects'] = 0\n",
    "    results[k]['events'] = {}"
   ]
  },
  {
   "cell_type": "code",
   "execution_count": null,
   "metadata": {},
   "outputs": [],
   "source": [
    "results = {}\n",
    "keys = ['00', '11', '12', '13']\n",
    "for k in keys:\n",
    "    results[k] = {}\n",
    "    results[k]['nb_subjects'] = 0\n",
    "    results[k]['events'] = {}\n",
    "for key, value in data.items():\n",
    "    for sess in keys:\n",
    "        if sess in value.keys():\n",
    "            results[sess]['nb_subjects'] = results[sess]['nb_subjects'] + 1\n",
    "            results[sess] = concatenate_results(results[sess], value[sess])\n",
    "            \n",
    "for sess, sess_dict in results.items():\n",
    "    for event, event_dict in sess_dict['events'].items():\n",
    "        for fix, value in event_dict.items():\n",
    "            results[sess]['events'][event][fix]['mean'] = np.mean(value['data'])\n",
    "            results[sess]['events'][event][fix]['std'] = np.std(value['data'])"
   ]
  },
  {
   "cell_type": "code",
   "execution_count": null,
   "metadata": {},
   "outputs": [],
   "source": [
    "colors = [\"red\", \"olive\", \"darkred\"]\n",
    "disp_fix = ['LHand', 'RHand', 'Head', 'VisualServoing', 'Object', 'Direction']"
   ]
  },
  {
   "cell_type": "code",
   "execution_count": null,
   "metadata": {},
   "outputs": [],
   "source": [
    "disp_event = ['MoveUp']\n",
    "show(create_grid(disp_event, disp_fix))"
   ]
  },
  {
   "cell_type": "code",
   "execution_count": null,
   "metadata": {},
   "outputs": [],
   "source": [
    "disp_event = ['MoveDown']\n",
    "show(create_grid(disp_event, disp_fix))"
   ]
  },
  {
   "cell_type": "code",
   "execution_count": null,
   "metadata": {},
   "outputs": [],
   "source": [
    "disp_event = ['Move']\n",
    "show(create_grid(disp_event, disp_fix))"
   ]
  },
  {
   "cell_type": "code",
   "execution_count": null,
   "metadata": {},
   "outputs": [],
   "source": [
    "disp_event = ['Regrasp']\n",
    "show(create_grid(disp_event, disp_fix))"
   ]
  },
  {
   "cell_type": "code",
   "execution_count": null,
   "metadata": {},
   "outputs": [],
   "source": [
    "disp_event = ['Place']\n",
    "show(create_grid(disp_event, disp_fix))"
   ]
  },
  {
   "cell_type": "code",
   "execution_count": null,
   "metadata": {},
   "outputs": [],
   "source": [
    "disp_event = ['total']\n",
    "show(create_grid(disp_event, disp_fix))"
   ]
  },
  {
   "cell_type": "code",
   "execution_count": null,
   "metadata": {},
   "outputs": [],
   "source": []
  }
 ],
 "metadata": {
  "kernelspec": {
   "display_name": "Python 3",
   "language": "python",
   "name": "python3"
  },
  "language_info": {
   "codemirror_mode": {
    "name": "ipython",
    "version": 3
   },
   "file_extension": ".py",
   "mimetype": "text/x-python",
   "name": "python",
   "nbconvert_exporter": "python",
   "pygments_lexer": "ipython3",
   "version": "3.7.2"
  }
 },
 "nbformat": 4,
 "nbformat_minor": 2
}
