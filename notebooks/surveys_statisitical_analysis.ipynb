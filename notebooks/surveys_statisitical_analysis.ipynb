{
 "cells": [
  {
   "cell_type": "code",
   "execution_count": 174,
   "metadata": {},
   "outputs": [],
   "source": [
    "from scipy.stats import ttest_rel\n",
    "from scipy.stats import ttest_ind\n",
    "from scipy.stats import wilcoxon\n",
    "import pandas as pd\n",
    "from os.path import join\n",
    "from itertools import combinations\n",
    "import numpy as np"
   ]
  },
  {
   "cell_type": "code",
   "execution_count": 175,
   "metadata": {},
   "outputs": [],
   "source": [
    "csv_folder = '../data/surveys'\n",
    "csv_files = [join(csv_folder, 'perception_prior.csv'), join(csv_folder, 'perception_after.csv'),\n",
    "             join(csv_folder, 'perception_diff.csv'), join(csv_folder, 'usability.csv')]"
   ]
  },
  {
   "cell_type": "code",
   "execution_count": 176,
   "metadata": {},
   "outputs": [],
   "source": [
    "tresh = 0.05"
   ]
  },
  {
   "cell_type": "markdown",
   "metadata": {},
   "source": [
    "# Perception survey"
   ]
  },
  {
   "cell_type": "code",
   "execution_count": 177,
   "metadata": {},
   "outputs": [],
   "source": [
    "prior = pd.read_csv(csv_files[0])\n",
    "after = pd.read_csv(csv_files[1])"
   ]
  },
  {
   "cell_type": "code",
   "execution_count": 178,
   "metadata": {},
   "outputs": [],
   "source": [
    "prior = prior.sort_values('ID')\n",
    "after = after.sort_values('ID')"
   ]
  },
  {
   "cell_type": "code",
   "execution_count": 179,
   "metadata": {},
   "outputs": [],
   "source": [
    "question_codes = list(prior)[4:]\n",
    "group_key = 'group'"
   ]
  },
  {
   "cell_type": "code",
   "execution_count": 180,
   "metadata": {},
   "outputs": [],
   "source": [
    "group_list = {}\n",
    "group_list['group'] = ['Test subject', 'Technicians', 'Lab members', 'Team members']\n",
    "group_list['group_merged'] = ['Technicians', 'Lab members']"
   ]
  },
  {
   "cell_type": "code",
   "execution_count": 181,
   "metadata": {},
   "outputs": [],
   "source": [
    "group_results = {}\n",
    "for g in range(len(group_list[group_key])):\n",
    "    subset_prior = prior[prior[group_key] == (g+1)].values[:,4:]\n",
    "    subset_after = after[after[group_key] == (g+1)].values[:,4:]\n",
    "    group_results[group_list[group_key][g]] = {}\n",
    "    group_results[group_list[group_key][g]]['prior'] = subset_prior\n",
    "    group_results[group_list[group_key][g]]['after'] = subset_after"
   ]
  },
  {
   "cell_type": "code",
   "execution_count": 182,
   "metadata": {},
   "outputs": [],
   "source": [
    "category_results = {}\n",
    "category_results['ANT'] = {}\n",
    "category_results['ANT']['prior'] = np.sum(prior.values[:,4:9], axis=1)\n",
    "category_results['ANT']['after'] = np.sum(after.values[:,4:9], axis=1)\n",
    "\n",
    "category_results['ANI'] = {}\n",
    "category_results['ANI']['prior'] = np.sum(prior.values[:,9:15], axis=1)\n",
    "category_results['ANI']['after'] = np.sum(after.values[:,9:15], axis=1)\n",
    "\n",
    "category_results['LIKE'] = {}\n",
    "category_results['LIKE']['prior'] = np.sum(prior.values[:,15:20], axis=1)\n",
    "category_results['LIKE']['after'] = np.sum(after.values[:,15:20], axis=1)\n",
    "\n",
    "category_results['INT'] = {}\n",
    "category_results['INT']['prior'] = np.sum(prior.values[:,20:25], axis=1)\n",
    "category_results['INT']['after'] = np.sum(after.values[:,20:25], axis=1)\n",
    "\n",
    "category_results['SAFE'] = {}\n",
    "category_results['SAFE']['prior'] = np.sum(prior.values[:,25:], axis=1)\n",
    "category_results['SAFE']['after'] = np.sum(after.values[:,25:], axis=1)"
   ]
  },
  {
   "cell_type": "code",
   "execution_count": 183,
   "metadata": {},
   "outputs": [
    {
     "name": "stdout",
     "output_type": "stream",
     "text": [
      "WilcoxonResult(statistic=34.0, pvalue=0.4188677383260413)\n",
      "WilcoxonResult(statistic=33.0, pvalue=0.03809964229488416)\n",
      "WilcoxonResult(statistic=63.5, pvalue=0.8121076366682847)\n",
      "WilcoxonResult(statistic=33.5, pvalue=0.07128589199216011)\n",
      "WilcoxonResult(statistic=58.0, pvalue=0.9084891707653966)\n"
     ]
    }
   ],
   "source": [
    "print(wilcoxon(category_results['ANT']['prior'], category_results['ANT']['after']))\n",
    "print(wilcoxon(category_results['ANI']['prior'], category_results['ANI']['after']))\n",
    "print(wilcoxon(category_results['LIKE']['prior'], category_results['LIKE']['after']))\n",
    "print(wilcoxon(category_results['INT']['prior'], category_results['INT']['after']))\n",
    "print(wilcoxon(category_results['SAFE']['prior'], category_results['SAFE']['after']))"
   ]
  },
  {
   "cell_type": "markdown",
   "metadata": {},
   "source": [
    "## All results paired t-test evaluation"
   ]
  },
  {
   "cell_type": "code",
   "execution_count": 184,
   "metadata": {},
   "outputs": [],
   "source": [
    "prior_all = prior.values[:,4:]\n",
    "after_all = after.values[:,4:]"
   ]
  },
  {
   "cell_type": "code",
   "execution_count": 185,
   "metadata": {},
   "outputs": [],
   "source": [
    "t_values, p_values = ttest_rel(prior_all, after_all)"
   ]
  },
  {
   "cell_type": "code",
   "execution_count": 186,
   "metadata": {
    "scrolled": true
   },
   "outputs": [
    {
     "name": "stdout",
     "output_type": "stream",
     "text": [
      "Differences for ANI2 are significant with p=0.009328703651280731 index=6\n",
      "Differences for INT4 are significant with p=0.023858231279662807 index=19\n"
     ]
    }
   ],
   "source": [
    "for i, p in enumerate(p_values):\n",
    "    if p < tresh:\n",
    "        print(\"Differences for \" + question_codes[i] + \" are significant with p=\" + str(p) + \" index=\" + str(i))"
   ]
  },
  {
   "cell_type": "markdown",
   "metadata": {},
   "source": [
    "## Results per group paired t-test evaluation"
   ]
  },
  {
   "cell_type": "code",
   "execution_count": 187,
   "metadata": {},
   "outputs": [],
   "source": [
    "ttest_by_groups = {}\n",
    "for key, value in group_results.items():\n",
    "    t_values, p_values = ttest_rel(value['prior'], value['after'])\n",
    "    ttest_by_groups[key] = p_values"
   ]
  },
  {
   "cell_type": "code",
   "execution_count": 189,
   "metadata": {},
   "outputs": [
    {
     "name": "stdout",
     "output_type": "stream",
     "text": [
      "############ Test subject ############\n",
      "############ Technicians ############\n",
      "Differences for ANT4 are significant with p=0.02503101581845297\n",
      "############ Lab members ############\n",
      "Differences for INT1 are significant with p=0.04652823228416728\n",
      "Differences for INT4 are significant with p=0.04525626534780607\n",
      "############ Team members ############\n",
      "Differences for ANT2 are significant with p=0.0\n"
     ]
    }
   ],
   "source": [
    "for key, values in ttest_by_groups.items():\n",
    "    print(\"############ \" + key + \" ############\")\n",
    "    for i, p in enumerate(values):\n",
    "        if p < tresh:\n",
    "            print(\"Differences for \" + question_codes[i] + \" are significant with p=\" + str(p))"
   ]
  },
  {
   "cell_type": "markdown",
   "metadata": {},
   "source": [
    "## Differences between groups"
   ]
  },
  {
   "cell_type": "code",
   "execution_count": 190,
   "metadata": {},
   "outputs": [],
   "source": [
    "comb = list(combinations(group_list[group_key], 2))\n",
    "ttest_difference = {}\n",
    "for c in comb:\n",
    "    ttest_difference[c[0] + '-' + c[1]] = {}\n",
    "    for key in ['prior', 'after']:\n",
    "        t_values, p_values = ttest_ind(group_results[c[0]][key], group_results[c[1]][key])\n",
    "        ttest_difference[c[0] + '-' + c[1]][key] = p_values"
   ]
  },
  {
   "cell_type": "code",
   "execution_count": 191,
   "metadata": {},
   "outputs": [
    {
     "name": "stdout",
     "output_type": "stream",
     "text": [
      "############ Test subject-Technicians ############\n",
      "---------- prior ----------\n",
      "---------- after ----------\n",
      "############ Test subject-Lab members ############\n",
      "---------- prior ----------\n",
      "---------- after ----------\n",
      "############ Test subject-Team members ############\n",
      "---------- prior ----------\n",
      "---------- after ----------\n",
      "############ Technicians-Lab members ############\n",
      "---------- prior ----------\n",
      "---------- after ----------\n",
      "Differences for ANI4 are significant with p=0.024615978015509625\n",
      "Differences for ANI5 are significant with p=0.024615978015509566\n",
      "Differences for SAFE3 are significant with p=0.011593634212087565\n",
      "############ Technicians-Team members ############\n",
      "---------- prior ----------\n",
      "Differences for ANI3 are significant with p=0.02093757020692463\n",
      "Differences for INT2 are significant with p=0.03833372883603091\n",
      "---------- after ----------\n",
      "Differences for ANT3 are significant with p=0.03314550026377369\n",
      "############ Lab members-Team members ############\n",
      "---------- prior ----------\n",
      "Differences for ANI3 are significant with p=0.027208560338869564\n",
      "---------- after ----------\n",
      "Differences for ANI5 are significant with p=0.04295287247452993\n"
     ]
    }
   ],
   "source": [
    "for key, values in ttest_difference.items():\n",
    "    print(\"############ \" + key + \" ############\")\n",
    "    for k, v in values.items():\n",
    "        print(\"---------- \" + k + \" ----------\")\n",
    "        for i, p in enumerate(v):\n",
    "            if p < tresh:\n",
    "                print(\"Differences for \" + question_codes[i] + \" are significant with p=\" + str(p))"
   ]
  },
  {
   "cell_type": "markdown",
   "metadata": {},
   "source": [
    "# Usability survey"
   ]
  },
  {
   "cell_type": "code",
   "execution_count": 98,
   "metadata": {},
   "outputs": [],
   "source": [
    "usability = pd.read_csv(csv_files[-1])"
   ]
  },
  {
   "cell_type": "code",
   "execution_count": 99,
   "metadata": {},
   "outputs": [],
   "source": [
    "question_codes = list(usability)[4:]"
   ]
  },
  {
   "cell_type": "code",
   "execution_count": 100,
   "metadata": {},
   "outputs": [
    {
     "data": {
      "text/plain": [
       "'group'"
      ]
     },
     "execution_count": 100,
     "metadata": {},
     "output_type": "execute_result"
    }
   ],
   "source": [
    "group_key"
   ]
  },
  {
   "cell_type": "code",
   "execution_count": 101,
   "metadata": {},
   "outputs": [],
   "source": [
    "group_results = {}\n",
    "for g in range(len(group_list[group_key])):\n",
    "    subset = usability[usability['group'] == (g+1)].values[:,4:]\n",
    "    group_results[group_list[group_key][g]] = subset"
   ]
  },
  {
   "cell_type": "code",
   "execution_count": 103,
   "metadata": {},
   "outputs": [
    {
     "data": {
      "text/plain": [
       "{'Test subject': array([[1, 5, 3, 4, 4, 3, 5, 3, 3, 3]]),\n",
       " 'Technicians': array([[4, 4, 5, 4, 4, 3, 4, 3, 2, 1],\n",
       "        [2, 2, 3, 2, 2, 3, 2, 3, 3, 1],\n",
       "        [5, 2, 4, 3, 3, 3, 4, 4, 4, 2],\n",
       "        [2, 3, 3, 2, 3, 3, 1, 3, 1, 5],\n",
       "        [5, 1, 3, 3, 3, 4, 4, 2, 3, 1]]),\n",
       " 'Lab members': array([[4, 5, 1, 4, 3, 3, 1, 4, 3, 2],\n",
       "        [2, 4, 1, 5, 3, 2, 2, 3, 2, 4],\n",
       "        [2, 4, 5, 4, 4, 3, 1, 3, 5, 1],\n",
       "        [3, 3, 4, 2, 5, 2, 3, 4, 4, 1]]),\n",
       " 'Team members': array([[1, 5, 2, 4, 4, 2, 1, 3, 3, 4],\n",
       "        [3, 2, 2, 3, 3, 4, 2, 3, 4, 2],\n",
       "        [1, 2, 2, 2, 5, 2, 4, 2, 2, 1]])}"
      ]
     },
     "execution_count": 103,
     "metadata": {},
     "output_type": "execute_result"
    }
   ],
   "source": [
    "group_results"
   ]
  },
  {
   "cell_type": "markdown",
   "metadata": {},
   "source": [
    "## Difference between groups"
   ]
  },
  {
   "cell_type": "code",
   "execution_count": 104,
   "metadata": {},
   "outputs": [],
   "source": [
    "ttest_difference = {}\n",
    "for c in comb:\n",
    "    t_values, p_values = ttest_ind(group_results[c[0]], group_results[c[1]])\n",
    "    ttest_difference[c[0] + '-' + c[1]] = p_values"
   ]
  },
  {
   "cell_type": "code",
   "execution_count": 106,
   "metadata": {},
   "outputs": [
    {
     "name": "stdout",
     "output_type": "stream",
     "text": [
      "############ Test subject-Technicians ############\n",
      "Differences for SUS1 are significant with p=nan\n",
      "Differences for SUS2 are significant with p=nan\n",
      "Differences for SUS3 are significant with p=nan\n",
      "Differences for SUS4 are significant with p=nan\n",
      "Differences for SUS5 are significant with p=nan\n",
      "Differences for SUS6 are significant with p=nan\n",
      "Differences for SUS7 are significant with p=nan\n",
      "Differences for SUS8 are significant with p=nan\n",
      "Differences for SUS9 are significant with p=nan\n",
      "Differences for SUS10 are significant with p=nan\n",
      "############ Test subject-Lab members ############\n",
      "Differences for SUS1 are significant with p=nan\n",
      "Differences for SUS2 are significant with p=nan\n",
      "Differences for SUS3 are significant with p=nan\n",
      "Differences for SUS4 are significant with p=nan\n",
      "Differences for SUS5 are significant with p=nan\n",
      "Differences for SUS6 are significant with p=nan\n",
      "Differences for SUS7 are significant with p=nan\n",
      "Differences for SUS8 are significant with p=nan\n",
      "Differences for SUS9 are significant with p=nan\n",
      "Differences for SUS10 are significant with p=nan\n",
      "############ Test subject-Team members ############\n",
      "Differences for SUS1 are significant with p=nan\n",
      "Differences for SUS2 are significant with p=nan\n",
      "Differences for SUS3 are significant with p=nan\n",
      "Differences for SUS4 are significant with p=nan\n",
      "Differences for SUS5 are significant with p=nan\n",
      "Differences for SUS6 are significant with p=nan\n",
      "Differences for SUS7 are significant with p=nan\n",
      "Differences for SUS8 are significant with p=nan\n",
      "Differences for SUS9 are significant with p=nan\n",
      "Differences for SUS10 are significant with p=nan\n",
      "############ Technicians-Lab members ############\n",
      "Differences for SUS1 are significant with p=0.36445835517407044\n",
      "Differences for SUS2 are significant with p=0.050953919132769594\n",
      "Differences for SUS3 are significant with p=0.42896435832416757\n",
      "Differences for SUS4 are significant with p=0.21491645249889912\n",
      "Differences for SUS5 are significant with p=0.21683754561890076\n",
      "Differences for SUS6 are significant with p=0.07861923505869367\n",
      "Differences for SUS7 are significant with p=0.1763773927382905\n",
      "Differences for SUS8 are significant with p=0.29235199244023835\n",
      "Differences for SUS9 are significant with p=0.3030905337348728\n",
      "Differences for SUS10 are significant with p=1.0\n",
      "############ Technicians-Team members ############\n",
      "Differences for SUS1 are significant with p=0.10878803511202864\n",
      "Differences for SUS2 are significant with p=0.5696215284130763\n",
      "Differences for SUS3 are significant with p=0.024008196755730942\n",
      "Differences for SUS4 are significant with p=0.7698091470026072\n",
      "Differences for SUS5 are significant with p=0.14454512259534735\n",
      "Differences for SUS6 are significant with p=0.37377054258575976\n",
      "Differences for SUS7 are significant with p=0.5529681709362562\n",
      "Differences for SUS8 are significant with p=0.5191201347401071\n",
      "Differences for SUS9 are significant with p=0.6348800000000001\n",
      "Differences for SUS10 are significant with p=0.7933749936493419\n",
      "############ Lab members-Team members ############\n",
      "Differences for SUS1 are significant with p=0.23112130586857788\n",
      "Differences for SUS2 are significant with p=0.34806619392509086\n",
      "Differences for SUS3 are significant with p=0.5654993745028182\n",
      "Differences for SUS4 are significant with p=0.4365880610203816\n",
      "Differences for SUS5 are significant with p=0.750632717523267\n",
      "Differences for SUS6 are significant with p=0.8090084953266753\n",
      "Differences for SUS7 are significant with p=0.5581101274138212\n",
      "Differences for SUS8 are significant with p=0.1173867951462932\n",
      "Differences for SUS9 are significant with p=0.603896897689733\n",
      "Differences for SUS10 are significant with p=0.7771076543348817\n"
     ]
    }
   ],
   "source": [
    "for key, values in ttest_difference.items():\n",
    "    print(\"############ \" + key + \" ############\")\n",
    "    for i, p in enumerate(values):\n",
    "        print(\"Differences for \" + question_codes[i] + \" are significant with p=\" + str(p))"
   ]
  },
  {
   "cell_type": "code",
   "execution_count": null,
   "metadata": {},
   "outputs": [],
   "source": []
  },
  {
   "cell_type": "code",
   "execution_count": null,
   "metadata": {},
   "outputs": [],
   "source": []
  }
 ],
 "metadata": {
  "kernelspec": {
   "display_name": "Python 3",
   "language": "python",
   "name": "python3"
  },
  "language_info": {
   "codemirror_mode": {
    "name": "ipython",
    "version": 3
   },
   "file_extension": ".py",
   "mimetype": "text/x-python",
   "name": "python",
   "nbconvert_exporter": "python",
   "pygments_lexer": "ipython3",
   "version": "3.7.2"
  },
  "widgets": {
   "state": {},
   "version": "1.1.2"
  }
 },
 "nbformat": 4,
 "nbformat_minor": 2
}
