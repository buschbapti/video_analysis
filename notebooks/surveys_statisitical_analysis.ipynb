{
 "cells": [
  {
   "cell_type": "code",
   "execution_count": 1,
   "metadata": {},
   "outputs": [],
   "source": [
    "from scipy.stats import ttest_rel\n",
    "from scipy.stats import ttest_ind\n",
    "from scipy.stats import wilcoxon\n",
    "import pandas as pd\n",
    "from os.path import join\n",
    "from itertools import combinations\n",
    "import numpy as np"
   ]
  },
  {
   "cell_type": "code",
   "execution_count": 2,
   "metadata": {},
   "outputs": [],
   "source": [
    "csv_folder = '../data/surveys'\n",
    "csv_files = [join(csv_folder, 'perception_prior.csv'), join(csv_folder, 'perception_after.csv'),\n",
    "             join(csv_folder, 'perception_diff.csv'), join(csv_folder, 'usability.csv')]"
   ]
  },
  {
   "cell_type": "code",
   "execution_count": 25,
   "metadata": {},
   "outputs": [],
   "source": [
    "tresh = 0.2"
   ]
  },
  {
   "cell_type": "markdown",
   "metadata": {},
   "source": [
    "# Perception survey"
   ]
  },
  {
   "cell_type": "code",
   "execution_count": 27,
   "metadata": {},
   "outputs": [],
   "source": [
    "prior = pd.read_csv(csv_files[0])\n",
    "after = pd.read_csv(csv_files[1])"
   ]
  },
  {
   "cell_type": "code",
   "execution_count": 28,
   "metadata": {},
   "outputs": [],
   "source": [
    "prior = prior.sort_values('ID')\n",
    "after = after.sort_values('ID')"
   ]
  },
  {
   "cell_type": "code",
   "execution_count": 29,
   "metadata": {},
   "outputs": [],
   "source": [
    "question_codes = list(prior)[4:]\n",
    "group_key = 'group'"
   ]
  },
  {
   "cell_type": "code",
   "execution_count": 30,
   "metadata": {},
   "outputs": [],
   "source": [
    "group_list = {}\n",
    "group_list['group'] = ['Test subject', 'Technicians', 'Lab members', 'Team members']\n",
    "group_list['group_merged'] = ['Technicians', 'Lab members']"
   ]
  },
  {
   "cell_type": "code",
   "execution_count": 31,
   "metadata": {},
   "outputs": [],
   "source": [
    "group_results = {}\n",
    "for g in range(len(group_list[group_key])):\n",
    "    subset_prior = prior[prior[group_key] == (g+1)].values[:,4:]\n",
    "    subset_after = after[after[group_key] == (g+1)].values[:,4:]\n",
    "    group_results[group_list[group_key][g]] = {}\n",
    "    group_results[group_list[group_key][g]]['prior'] = subset_prior\n",
    "    group_results[group_list[group_key][g]]['after'] = subset_after"
   ]
  },
  {
   "cell_type": "code",
   "execution_count": 32,
   "metadata": {},
   "outputs": [],
   "source": [
    "category_results = {}\n",
    "category_results['ANT'] = {}\n",
    "category_results['ANT']['prior'] = np.sum(prior.values[:,4:9], axis=1)\n",
    "category_results['ANT']['after'] = np.sum(after.values[:,4:9], axis=1)\n",
    "\n",
    "category_results['ANI'] = {}\n",
    "category_results['ANI']['prior'] = np.sum(prior.values[:,9:15], axis=1)\n",
    "category_results['ANI']['after'] = np.sum(after.values[:,9:15], axis=1)\n",
    "\n",
    "category_results['LIKE'] = {}\n",
    "category_results['LIKE']['prior'] = np.sum(prior.values[:,15:20], axis=1)\n",
    "category_results['LIKE']['after'] = np.sum(after.values[:,15:20], axis=1)\n",
    "\n",
    "category_results['INT'] = {}\n",
    "category_results['INT']['prior'] = np.sum(prior.values[:,20:25], axis=1)\n",
    "category_results['INT']['after'] = np.sum(after.values[:,20:25], axis=1)\n",
    "\n",
    "category_results['SAFE'] = {}\n",
    "category_results['SAFE']['prior'] = np.sum(prior.values[:,25:], axis=1)\n",
    "category_results['SAFE']['after'] = np.sum(after.values[:,25:], axis=1)"
   ]
  },
  {
   "cell_type": "code",
   "execution_count": 33,
   "metadata": {},
   "outputs": [
    {
     "name": "stdout",
     "output_type": "stream",
     "text": [
      "WilcoxonResult(statistic=34.0, pvalue=0.4188677383260413)\n",
      "WilcoxonResult(statistic=33.0, pvalue=0.03809964229488416)\n",
      "WilcoxonResult(statistic=63.5, pvalue=0.8121076366682847)\n",
      "WilcoxonResult(statistic=33.5, pvalue=0.07128589199216011)\n",
      "WilcoxonResult(statistic=58.0, pvalue=0.9084891707653966)\n"
     ]
    }
   ],
   "source": [
    "print(wilcoxon(category_results['ANT']['prior'], category_results['ANT']['after']))\n",
    "print(wilcoxon(category_results['ANI']['prior'], category_results['ANI']['after']))\n",
    "print(wilcoxon(category_results['LIKE']['prior'], category_results['LIKE']['after']))\n",
    "print(wilcoxon(category_results['INT']['prior'], category_results['INT']['after']))\n",
    "print(wilcoxon(category_results['SAFE']['prior'], category_results['SAFE']['after']))"
   ]
  },
  {
   "cell_type": "markdown",
   "metadata": {},
   "source": [
    "## All results paired t-test evaluation"
   ]
  },
  {
   "cell_type": "code",
   "execution_count": 34,
   "metadata": {},
   "outputs": [],
   "source": [
    "prior_all = prior.values[:,4:]\n",
    "after_all = after.values[:,4:]"
   ]
  },
  {
   "cell_type": "code",
   "execution_count": 35,
   "metadata": {},
   "outputs": [],
   "source": [
    "t_values, p_values = ttest_rel(prior_all, after_all)"
   ]
  },
  {
   "cell_type": "code",
   "execution_count": 36,
   "metadata": {
    "scrolled": true
   },
   "outputs": [
    {
     "name": "stdout",
     "output_type": "stream",
     "text": [
      "Differences for ANT2 are significant with p=0.08262239198015026 index=1\n",
      "Differences for ANI2 are significant with p=0.009328703651280731 index=6\n",
      "Differences for ANI3 are significant with p=0.08262239198015021 index=7\n",
      "Differences for ANI5 are significant with p=0.18571584992925577 index=9\n",
      "Differences for ANI6 are significant with p=0.06881287894875096 index=10\n",
      "Differences for INT4 are significant with p=0.023858231279662807 index=19\n",
      "Differences for INT5 are significant with p=0.16348548685933983 index=20\n",
      "Differences for SAFE1 are significant with p=0.16624585457006283 index=21\n",
      "Differences for SAFE2 are significant with p=0.06661962700657047 index=22\n"
     ]
    }
   ],
   "source": [
    "for i, p in enumerate(p_values):\n",
    "    if p < tresh:\n",
    "        print(\"Differences for \" + question_codes[i] + \" are significant with p=\" + str(p) + \" index=\" + str(i))"
   ]
  },
  {
   "cell_type": "markdown",
   "metadata": {},
   "source": [
    "## Results per group paired t-test evaluation"
   ]
  },
  {
   "cell_type": "code",
   "execution_count": 37,
   "metadata": {},
   "outputs": [],
   "source": [
    "ttest_by_groups = {}\n",
    "for key, value in group_results.items():\n",
    "    t_values, p_values = ttest_rel(value['prior'], value['after'])\n",
    "    ttest_by_groups[key] = p_values"
   ]
  },
  {
   "cell_type": "code",
   "execution_count": 38,
   "metadata": {},
   "outputs": [
    {
     "name": "stdout",
     "output_type": "stream",
     "text": [
      "############ Test subject ############\n",
      "############ Technicians ############\n",
      "Differences for ANT4 are significant with p=0.02503101581845297\n",
      "Differences for ANI2 are significant with p=0.10193947882985828\n",
      "Differences for ANI3 are significant with p=0.10193947882985828\n",
      "Differences for ANI5 are significant with p=0.10986650103422634\n",
      "Differences for ANI6 are significant with p=0.17468781426411925\n",
      "Differences for LIKE3 are significant with p=0.0755868184216124\n",
      "Differences for LIKE4 are significant with p=0.14123477317626154\n",
      "Differences for SAFE2 are significant with p=0.1508852728417516\n",
      "Differences for SAFE3 are significant with p=0.10986650103422634\n",
      "############ Lab members ############\n",
      "Differences for ANT2 are significant with p=0.1723082967304001\n",
      "Differences for ANT5 are significant with p=0.1403463008673793\n",
      "Differences for ANI4 are significant with p=0.07814074941121574\n",
      "Differences for ANI5 are significant with p=0.07814074941121574\n",
      "Differences for LIKE2 are significant with p=0.07814074941121574\n",
      "Differences for LIKE3 are significant with p=0.07814074941121574\n",
      "Differences for LIKE4 are significant with p=0.17230829673040018\n",
      "Differences for LIKE5 are significant with p=0.17230829673040013\n",
      "Differences for INT1 are significant with p=0.04652823228416728\n",
      "Differences for INT2 are significant with p=0.17230829673040018\n",
      "Differences for INT4 are significant with p=0.04525626534780607\n",
      "Differences for INT5 are significant with p=0.1723082967304001\n",
      "Differences for SAFE1 are significant with p=0.09413276656581646\n",
      "Differences for SAFE3 are significant with p=0.09413276656581646\n",
      "############ Team members ############\n",
      "Differences for ANT2 are significant with p=0.0\n",
      "Differences for ANT3 are significant with p=0.1835034190722739\n",
      "Differences for ANT4 are significant with p=0.1835034190722739\n",
      "Differences for LIKE1 are significant with p=0.1835034190722739\n",
      "Differences for INT4 are significant with p=0.1835034190722739\n"
     ]
    }
   ],
   "source": [
    "for key, values in ttest_by_groups.items():\n",
    "    print(\"############ \" + key + \" ############\")\n",
    "    for i, p in enumerate(values):\n",
    "        if p < tresh:\n",
    "            print(\"Differences for \" + question_codes[i] + \" are significant with p=\" + str(p))"
   ]
  },
  {
   "cell_type": "markdown",
   "metadata": {},
   "source": [
    "## Differences between groups"
   ]
  },
  {
   "cell_type": "code",
   "execution_count": 39,
   "metadata": {},
   "outputs": [],
   "source": [
    "comb = list(combinations(group_list[group_key], 2))\n",
    "ttest_difference = {}\n",
    "for c in comb:\n",
    "    ttest_difference[c[0] + '-' + c[1]] = {}\n",
    "    for key in ['prior', 'after']:\n",
    "        t_values, p_values = ttest_ind(group_results[c[0]][key], group_results[c[1]][key])\n",
    "        ttest_difference[c[0] + '-' + c[1]][key] = p_values"
   ]
  },
  {
   "cell_type": "code",
   "execution_count": 40,
   "metadata": {},
   "outputs": [
    {
     "name": "stdout",
     "output_type": "stream",
     "text": [
      "############ Test subject-Technicians ############\n",
      "---------- prior ----------\n",
      "---------- after ----------\n",
      "############ Test subject-Lab members ############\n",
      "---------- prior ----------\n",
      "---------- after ----------\n",
      "############ Test subject-Team members ############\n",
      "---------- prior ----------\n",
      "---------- after ----------\n",
      "############ Technicians-Lab members ############\n",
      "---------- prior ----------\n",
      "Differences for ANI2 are significant with p=0.15877995255314828\n",
      "Differences for ANI4 are significant with p=0.1929775830195549\n",
      "Differences for ANI5 are significant with p=0.1272748556129589\n",
      "Differences for ANI6 are significant with p=0.15672925707331667\n",
      "Differences for LIKE1 are significant with p=0.17021572043314817\n",
      "Differences for LIKE2 are significant with p=0.1818932275010314\n",
      "Differences for LIKE4 are significant with p=0.0862582346252195\n",
      "Differences for INT1 are significant with p=0.08608280938036773\n",
      "Differences for INT2 are significant with p=0.12431288736950233\n",
      "Differences for SAFE1 are significant with p=0.09180534519110779\n",
      "Differences for SAFE3 are significant with p=0.1272748556129589\n",
      "---------- after ----------\n",
      "Differences for ANT3 are significant with p=0.11323404415682159\n",
      "Differences for ANI2 are significant with p=0.1465061901111393\n",
      "Differences for ANI4 are significant with p=0.024615978015509625\n",
      "Differences for ANI5 are significant with p=0.024615978015509566\n",
      "Differences for INT4 are significant with p=0.11323404415682159\n",
      "Differences for SAFE1 are significant with p=0.15877995255314836\n",
      "Differences for SAFE3 are significant with p=0.011593634212087565\n",
      "############ Technicians-Team members ############\n",
      "---------- prior ----------\n",
      "Differences for ANI2 are significant with p=0.17047066078705375\n",
      "Differences for ANI3 are significant with p=0.02093757020692463\n",
      "Differences for INT2 are significant with p=0.03833372883603091\n",
      "---------- after ----------\n",
      "Differences for ANT1 are significant with p=0.17047066078705375\n",
      "Differences for ANT3 are significant with p=0.03314550026377369\n",
      "Differences for ANT4 are significant with p=0.1704706607870538\n",
      "Differences for ANI2 are significant with p=0.09461768738800032\n",
      "Differences for ANI5 are significant with p=0.1704706607870537\n",
      "Differences for ANI6 are significant with p=0.10639228308334239\n",
      "Differences for INT5 are significant with p=0.17047066078705375\n",
      "Differences for SAFE3 are significant with p=0.1704706607870537\n",
      "############ Lab members-Team members ############\n",
      "---------- prior ----------\n",
      "Differences for ANT2 are significant with p=0.07128551608694471\n",
      "Differences for ANI3 are significant with p=0.027208560338869564\n",
      "Differences for ANI4 are significant with p=0.07128551608694471\n",
      "Differences for LIKE1 are significant with p=0.07457875679257\n",
      "---------- after ----------\n",
      "Differences for ANI2 are significant with p=0.11770870757433821\n",
      "Differences for ANI3 are significant with p=0.1151106351276104\n",
      "Differences for ANI5 are significant with p=0.04295287247452993\n",
      "Differences for ANI6 are significant with p=0.14957805361162926\n"
     ]
    }
   ],
   "source": [
    "for key, values in ttest_difference.items():\n",
    "    print(\"############ \" + key + \" ############\")\n",
    "    for k, v in values.items():\n",
    "        print(\"---------- \" + k + \" ----------\")\n",
    "        for i, p in enumerate(v):\n",
    "            if p < tresh:\n",
    "                print(\"Differences for \" + question_codes[i] + \" are significant with p=\" + str(p))"
   ]
  },
  {
   "cell_type": "markdown",
   "metadata": {},
   "source": [
    "# Usability survey"
   ]
  },
  {
   "cell_type": "code",
   "execution_count": 41,
   "metadata": {},
   "outputs": [],
   "source": [
    "usability = pd.read_csv(csv_files[-1])"
   ]
  },
  {
   "cell_type": "code",
   "execution_count": 42,
   "metadata": {},
   "outputs": [],
   "source": [
    "question_codes = list(usability)[4:]"
   ]
  },
  {
   "cell_type": "code",
   "execution_count": 43,
   "metadata": {},
   "outputs": [
    {
     "data": {
      "text/plain": [
       "'group'"
      ]
     },
     "execution_count": 43,
     "metadata": {},
     "output_type": "execute_result"
    }
   ],
   "source": [
    "group_key"
   ]
  },
  {
   "cell_type": "code",
   "execution_count": 44,
   "metadata": {},
   "outputs": [],
   "source": [
    "group_results = {}\n",
    "for g in range(len(group_list[group_key])):\n",
    "    subset = usability[usability['group'] == (g+1)].values[:,4:]\n",
    "    group_results[group_list[group_key][g]] = subset"
   ]
  },
  {
   "cell_type": "code",
   "execution_count": 45,
   "metadata": {},
   "outputs": [
    {
     "data": {
      "text/plain": [
       "{'Test subject': array([[3, 4, 2, 5, 2, 4, 4, 3, 2, 3]]),\n",
       " 'Technicians': array([[1, 5, 3, 4, 4, 3, 5, 3, 3, 3],\n",
       "        [4, 4, 5, 4, 4, 3, 4, 3, 2, 1],\n",
       "        [2, 2, 3, 2, 2, 3, 2, 3, 3, 1],\n",
       "        [5, 2, 4, 3, 3, 3, 4, 4, 4, 2],\n",
       "        [2, 3, 3, 2, 3, 3, 1, 3, 1, 5],\n",
       "        [5, 1, 3, 3, 3, 4, 4, 2, 3, 1]]),\n",
       " 'Lab members': array([[4, 5, 1, 4, 3, 3, 1, 4, 3, 2],\n",
       "        [2, 4, 1, 5, 3, 2, 2, 3, 2, 4],\n",
       "        [2, 4, 5, 4, 4, 3, 1, 3, 5, 1],\n",
       "        [3, 3, 4, 2, 5, 2, 3, 4, 4, 1],\n",
       "        [1, 5, 2, 4, 4, 2, 1, 3, 3, 4],\n",
       "        [3, 2, 2, 3, 3, 4, 2, 3, 4, 2],\n",
       "        [1, 2, 2, 2, 5, 2, 4, 2, 2, 1]]),\n",
       " 'Team members': array([[3, 3, 4, 4, 3, 1, 2, 2, 4, 3],\n",
       "        [2, 2, 2, 2, 3, 3, 2, 3, 2, 3],\n",
       "        [3, 3, 2, 3, 3, 1, 2, 3, 4, 3]])}"
      ]
     },
     "execution_count": 45,
     "metadata": {},
     "output_type": "execute_result"
    }
   ],
   "source": [
    "group_results"
   ]
  },
  {
   "cell_type": "markdown",
   "metadata": {},
   "source": [
    "## Difference between groups"
   ]
  },
  {
   "cell_type": "code",
   "execution_count": 46,
   "metadata": {},
   "outputs": [],
   "source": [
    "ttest_difference = {}\n",
    "for c in comb:\n",
    "    t_values, p_values = ttest_ind(group_results[c[0]], group_results[c[1]])\n",
    "    ttest_difference[c[0] + '-' + c[1]] = p_values"
   ]
  },
  {
   "cell_type": "code",
   "execution_count": 47,
   "metadata": {},
   "outputs": [
    {
     "name": "stdout",
     "output_type": "stream",
     "text": [
      "############ Test subject-Technicians ############\n",
      "Differences for SUS1 are significant with p=nan\n",
      "Differences for SUS2 are significant with p=nan\n",
      "Differences for SUS3 are significant with p=nan\n",
      "Differences for SUS4 are significant with p=nan\n",
      "Differences for SUS5 are significant with p=nan\n",
      "Differences for SUS6 are significant with p=nan\n",
      "Differences for SUS7 are significant with p=nan\n",
      "Differences for SUS8 are significant with p=nan\n",
      "Differences for SUS9 are significant with p=nan\n",
      "Differences for SUS10 are significant with p=nan\n",
      "############ Test subject-Lab members ############\n",
      "Differences for SUS1 are significant with p=nan\n",
      "Differences for SUS2 are significant with p=nan\n",
      "Differences for SUS3 are significant with p=nan\n",
      "Differences for SUS4 are significant with p=nan\n",
      "Differences for SUS5 are significant with p=nan\n",
      "Differences for SUS6 are significant with p=nan\n",
      "Differences for SUS7 are significant with p=nan\n",
      "Differences for SUS8 are significant with p=nan\n",
      "Differences for SUS9 are significant with p=nan\n",
      "Differences for SUS10 are significant with p=nan\n",
      "############ Test subject-Team members ############\n",
      "Differences for SUS1 are significant with p=nan\n",
      "Differences for SUS2 are significant with p=nan\n",
      "Differences for SUS3 are significant with p=nan\n",
      "Differences for SUS4 are significant with p=nan\n",
      "Differences for SUS5 are significant with p=nan\n",
      "Differences for SUS6 are significant with p=nan\n",
      "Differences for SUS7 are significant with p=nan\n",
      "Differences for SUS8 are significant with p=nan\n",
      "Differences for SUS9 are significant with p=nan\n",
      "Differences for SUS10 are significant with p=nan\n",
      "############ Technicians-Lab members ############\n",
      "Differences for SUS1 are significant with p=0.28941256648599956\n",
      "Differences for SUS2 are significant with p=0.35256270121099453\n",
      "Differences for SUS3 are significant with p=0.1519488439073302\n",
      "Differences for SUS4 are significant with p=0.47103458668080433\n",
      "Differences for SUS5 are significant with p=0.16581029947309275\n",
      "Differences for SUS6 are significant with p=0.12431288736950233\n",
      "Differences for SUS7 are significant with p=0.09804159206766251\n",
      "Differences for SUS8 are significant with p=0.7065549032453662\n",
      "Differences for SUS9 are significant with p=0.3237649362977698\n",
      "Differences for SUS10 are significant with p=0.9772579726375851\n",
      "############ Technicians-Team members ############\n",
      "Differences for SUS1 are significant with p=0.64912037835991\n",
      "Differences for SUS2 are significant with p=0.8593114497467749\n",
      "Differences for SUS3 are significant with p=0.24954202298281292\n",
      "Differences for SUS4 are significant with p=1.0\n",
      "Differences for SUS5 are significant with p=0.7219817683699321\n",
      "Differences for SUS6 are significant with p=0.019942126131992536\n",
      "Differences for SUS7 are significant with p=0.1819187489613642\n",
      "Differences for SUS8 are significant with p=0.46996364205841956\n",
      "Differences for SUS9 are significant with p=0.4070838220655886\n",
      "Differences for SUS10 are significant with p=0.4129384738339922\n",
      "############ Lab members-Team members ############\n",
      "Differences for SUS1 are significant with p=0.598124253043038\n",
      "Differences for SUS2 are significant with p=0.28297522156813465\n",
      "Differences for SUS3 are significant with p=0.815525946925864\n",
      "Differences for SUS4 are significant with p=0.5884703869403003\n",
      "Differences for SUS5 are significant with p=0.14957805361162926\n",
      "Differences for SUS6 are significant with p=0.18027134238356232\n",
      "Differences for SUS7 are significant with p=1.0\n",
      "Differences for SUS8 are significant with p=0.32885697706637845\n",
      "Differences for SUS9 are significant with p=0.9525241249909411\n",
      "Differences for SUS10 are significant with p=0.31743827458116175\n"
     ]
    }
   ],
   "source": [
    "for key, values in ttest_difference.items():\n",
    "    print(\"############ \" + key + \" ############\")\n",
    "    for i, p in enumerate(values):\n",
    "        print(\"Differences for \" + question_codes[i] + \" are significant with p=\" + str(p))"
   ]
  },
  {
   "cell_type": "code",
   "execution_count": null,
   "metadata": {},
   "outputs": [],
   "source": []
  },
  {
   "cell_type": "code",
   "execution_count": null,
   "metadata": {},
   "outputs": [],
   "source": []
  },
  {
   "cell_type": "code",
   "execution_count": null,
   "metadata": {},
   "outputs": [],
   "source": []
  }
 ],
 "metadata": {
  "kernelspec": {
   "display_name": "Python 3",
   "language": "python",
   "name": "python3"
  },
  "language_info": {
   "codemirror_mode": {
    "name": "ipython",
    "version": 3
   },
   "file_extension": ".py",
   "mimetype": "text/x-python",
   "name": "python",
   "nbconvert_exporter": "python",
   "pygments_lexer": "ipython3",
   "version": "3.7.2"
  },
  "widgets": {
   "state": {},
   "version": "1.1.2"
  }
 },
 "nbformat": 4,
 "nbformat_minor": 2
}
