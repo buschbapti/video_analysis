{
 "cells": [
  {
   "cell_type": "code",
   "execution_count": null,
   "metadata": {},
   "outputs": [],
   "source": [
    "from os.path import join\n",
    "from bokeh.io import show, output_notebook, push_notebook, output_file\n",
    "from bokeh.application.handlers import FunctionHandler\n",
    "from bokeh.application import Application\n",
    "from bokeh.colors import RGB\n",
    "from dataset_handler.dataset_handler import DatasetHandler\n",
    "\n",
    "from itertools import combinations\n",
    "import numpy as np\n",
    "import matplotlib.pyplot as plt\n",
    "import pandas as pd"
   ]
  },
  {
   "cell_type": "code",
   "execution_count": null,
   "metadata": {},
   "outputs": [],
   "source": [
    "output_notebook()"
   ]
  },
  {
   "cell_type": "code",
   "execution_count": null,
   "metadata": {},
   "outputs": [],
   "source": [
    "colors_list = [RGB(252,141,89), RGB(255,255,191), RGB(145,191,219)]"
   ]
  },
  {
   "cell_type": "code",
   "execution_count": null,
   "metadata": {},
   "outputs": [],
   "source": [
    "def get_redundant_pairs(df):\n",
    "    '''Get diagonal and lower triangular pairs of correlation matrix'''\n",
    "    pairs_to_drop = set()\n",
    "    cols = df.columns\n",
    "    for i in range(0, df.shape[1]):\n",
    "        for j in range(0, i+1):\n",
    "            pairs_to_drop.add((cols[i], cols[j]))\n",
    "    return pairs_to_drop\n",
    "\n",
    "def get_top_abs_correlations(df, n=5):\n",
    "    au_corr = df.corr().abs().unstack()\n",
    "    labels_to_drop = get_redundant_pairs(df)\n",
    "    au_corr = au_corr.drop(labels=labels_to_drop).sort_values(ascending=False)\n",
    "    return au_corr[0:n]"
   ]
  },
  {
   "cell_type": "markdown",
   "metadata": {},
   "source": [
    "# Perception results"
   ]
  },
  {
   "cell_type": "code",
   "execution_count": null,
   "metadata": {},
   "outputs": [],
   "source": [
    "csv_folder = '../data/surveys'\n",
    "csv_files = [join(csv_folder, 'perception_prior.csv'), join(csv_folder, 'perception_after.csv'),\n",
    "             join(csv_folder, 'perception_diff.csv')]"
   ]
  },
  {
   "cell_type": "code",
   "execution_count": null,
   "metadata": {},
   "outputs": [],
   "source": [
    "data_handler_percep = DatasetHandler(csv_files, colors_list, ['ANT2', 'ANT4', 'ANI2', 'ANI3', 'ANI4', 'INT2', 'INT4', 'LIKE3', 'SAFE1', 'SAFE3'])\n",
    "#data_handler = DatasetHandler(csv_files, colors_list)"
   ]
  },
  {
   "cell_type": "code",
   "execution_count": null,
   "metadata": {},
   "outputs": [],
   "source": [
    "# Set up an application\n",
    "handler = FunctionHandler(data_handler_percep.modify_doc)\n",
    "app = Application(handler)"
   ]
  },
  {
   "cell_type": "code",
   "execution_count": null,
   "metadata": {
    "scrolled": false
   },
   "outputs": [],
   "source": [
    "show(app)"
   ]
  },
  {
   "cell_type": "code",
   "execution_count": null,
   "metadata": {},
   "outputs": [],
   "source": [
    "data = data_handler_percep.dataset[data_handler_percep.dataset[\"type\"]==0]\n",
    "data = data[data[\"group\"]==2]['ANT4']\n",
    "print(np.mean(data))\n",
    "data = data_handler_percep.dataset[data_handler_percep.dataset[\"type\"]==1]\n",
    "data = data[data[\"group\"]==2]['ANT4']\n",
    "print(np.mean(data))"
   ]
  },
  {
   "cell_type": "code",
   "execution_count": null,
   "metadata": {},
   "outputs": [],
   "source": [
    "data = data_handler_percep.dataset[data_handler_percep.dataset[\"type\"]==0]\n",
    "data = data[data[\"group\"]==2]['ANI6']\n",
    "print(np.mean(data))\n",
    "data = data_handler_percep.dataset[data_handler_percep.dataset[\"type\"]==1]\n",
    "data = data[data[\"group\"]==2]['ANI6']\n",
    "print(np.mean(data))"
   ]
  },
  {
   "cell_type": "code",
   "execution_count": null,
   "metadata": {},
   "outputs": [],
   "source": [
    "data = data_handler_percep.dataset[data_handler_percep.dataset[\"type\"]==0]\n",
    "data = data[data[\"group\"]==3]['INT1']\n",
    "print(np.mean(data))\n",
    "data = data_handler_percep.dataset[data_handler_percep.dataset[\"type\"]==1]\n",
    "data = data[data[\"group\"]==3]['INT1']\n",
    "print(np.mean(data))"
   ]
  },
  {
   "cell_type": "code",
   "execution_count": null,
   "metadata": {},
   "outputs": [],
   "source": [
    "data = data_handler_percep.dataset[data_handler_percep.dataset[\"type\"]==0]\n",
    "data = data[data[\"group\"]==3]['INT4']\n",
    "print(np.mean(data))\n",
    "data = data_handler_percep.dataset[data_handler_percep.dataset[\"type\"]==1]\n",
    "data = data[data[\"group\"]==3]['INT4']\n",
    "print(np.mean(data))"
   ]
  },
  {
   "cell_type": "code",
   "execution_count": null,
   "metadata": {},
   "outputs": [],
   "source": [
    "data = data_handler_percep.dataset[data_handler_percep.dataset[\"type\"]==1]\n",
    "data = data[data[\"group\"]==2].iloc[:, -24:]"
   ]
  },
  {
   "cell_type": "code",
   "execution_count": null,
   "metadata": {},
   "outputs": [],
   "source": [
    "print(np.argmin(data.mean()), np.min(data.mean()))\n",
    "print(np.argmax(data.mean()), np.max(data.mean()))"
   ]
  },
  {
   "cell_type": "code",
   "execution_count": null,
   "metadata": {},
   "outputs": [],
   "source": [
    "X = []\n",
    "X.append(np.mean(data.mean()[:5]))\n",
    "X.append(np.mean(data.mean()[5:11]))\n",
    "X.append(np.mean(data.mean()[11:16]))\n",
    "X.append(np.mean(data.mean()[16:21]))\n",
    "X.append(np.mean(data.mean()[21:]))\n",
    "plt.plot(X)"
   ]
  },
  {
   "cell_type": "code",
   "execution_count": null,
   "metadata": {},
   "outputs": [],
   "source": [
    "data = data_handler_percep.dataset[data_handler_percep.dataset[\"type\"]==1]\n",
    "data = data[data[\"group\"]==3].iloc[:, -24:]"
   ]
  },
  {
   "cell_type": "code",
   "execution_count": null,
   "metadata": {},
   "outputs": [],
   "source": [
    "print(np.argmin(data.mean()), np.min(data.mean()))\n",
    "print(np.argmax(data.mean()), np.max(data.mean()))"
   ]
  },
  {
   "cell_type": "code",
   "execution_count": null,
   "metadata": {},
   "outputs": [],
   "source": [
    "X = []\n",
    "X.append(np.mean(data.mean()[:5]))\n",
    "X.append(np.mean(data.mean()[5:11]))\n",
    "X.append(np.mean(data.mean()[11:16]))\n",
    "X.append(np.mean(data.mean()[16:21]))\n",
    "X.append(np.mean(data.mean()[21:]))\n",
    "plt.plot(X)"
   ]
  },
  {
   "cell_type": "code",
   "execution_count": null,
   "metadata": {},
   "outputs": [],
   "source": [
    "data = data_handler_percep.dataset[data_handler_percep.dataset[\"type\"]==1]\n",
    "data = data[data[\"group\"]==2].iloc[:, -24:]"
   ]
  },
  {
   "cell_type": "code",
   "execution_count": null,
   "metadata": {
    "scrolled": true
   },
   "outputs": [],
   "source": [
    "print(\"Top Absolute Correlations\")\n",
    "print(get_top_abs_correlations(data, 10))"
   ]
  },
  {
   "cell_type": "code",
   "execution_count": null,
   "metadata": {},
   "outputs": [],
   "source": [
    "data = data_handler_percep.dataset[data_handler_percep.dataset[\"type\"]==1]\n",
    "data = data[data[\"group\"]==3].iloc[:, -24:]"
   ]
  },
  {
   "cell_type": "code",
   "execution_count": null,
   "metadata": {},
   "outputs": [],
   "source": [
    "print(\"Top Absolute Correlations\")\n",
    "print(get_top_abs_correlations(data, 10))"
   ]
  },
  {
   "cell_type": "code",
   "execution_count": null,
   "metadata": {},
   "outputs": [],
   "source": [
    "data = data_handler_percep.dataset[data_handler_percep.dataset[\"type\"]==1]\n",
    "data = data[data[\"group\"].isin([2,3])].iloc[:, -24:]"
   ]
  },
  {
   "cell_type": "code",
   "execution_count": null,
   "metadata": {},
   "outputs": [],
   "source": [
    "print(\"Top Absolute Correlations\")\n",
    "print(get_top_abs_correlations(data, 10))"
   ]
  },
  {
   "cell_type": "markdown",
   "metadata": {},
   "source": [
    "# Usability results"
   ]
  },
  {
   "cell_type": "code",
   "execution_count": null,
   "metadata": {},
   "outputs": [],
   "source": [
    "csv_folder = '../data/surveys'\n",
    "csv_files = [join(csv_folder, 'usability.csv')]"
   ]
  },
  {
   "cell_type": "code",
   "execution_count": null,
   "metadata": {},
   "outputs": [],
   "source": [
    "data_handler_use = DatasetHandler(csv_files, colors_list)"
   ]
  },
  {
   "cell_type": "code",
   "execution_count": null,
   "metadata": {},
   "outputs": [],
   "source": [
    "# Set up an application\n",
    "handler = FunctionHandler(data_handler_use.modify_doc)\n",
    "app = Application(handler)"
   ]
  },
  {
   "cell_type": "code",
   "execution_count": null,
   "metadata": {},
   "outputs": [],
   "source": [
    "show(app)"
   ]
  },
  {
   "cell_type": "code",
   "execution_count": null,
   "metadata": {},
   "outputs": [],
   "source": [
    "data = data_handler_use.dataset[data_handler_use.dataset[\"group\"]==2].iloc[:,-10:]\n",
    "odd_data = data.iloc[:,[0,2,4,6,8]] - 1\n",
    "even_data = 5 - data.iloc[:,[1,3,5,7,9]]\n",
    "data = pd.concat([odd_data, even_data], axis=1, sort=False)\n",
    "data = data.sort_index(axis=1)"
   ]
  },
  {
   "cell_type": "code",
   "execution_count": null,
   "metadata": {},
   "outputs": [],
   "source": [
    "data.mean().plot(kind='bar')"
   ]
  },
  {
   "cell_type": "code",
   "execution_count": null,
   "metadata": {},
   "outputs": [],
   "source": [
    "print(np.argmin(data.mean()), np.min(data.mean()))\n",
    "print(np.argmax(data.mean()), np.max(data.mean()))"
   ]
  },
  {
   "cell_type": "code",
   "execution_count": null,
   "metadata": {},
   "outputs": [],
   "source": [
    "data['SUS2'].mean()"
   ]
  },
  {
   "cell_type": "code",
   "execution_count": null,
   "metadata": {},
   "outputs": [],
   "source": [
    "print(\"Top Absolute Correlations\")\n",
    "print(get_top_abs_correlations(data, 5))"
   ]
  },
  {
   "cell_type": "code",
   "execution_count": null,
   "metadata": {},
   "outputs": [],
   "source": [
    "data = data_handler_use.dataset[data_handler_use.dataset[\"group\"]==3].iloc[:,-10:]\n",
    "odd_data = data.iloc[:,[0,2,4,6,8]] - 1\n",
    "even_data = 5 - data.iloc[:,[1,3,5,7,9]]\n",
    "data = pd.concat([odd_data, even_data], axis=1, sort=False)\n",
    "data = data.sort_index(axis=1)"
   ]
  },
  {
   "cell_type": "code",
   "execution_count": null,
   "metadata": {},
   "outputs": [],
   "source": [
    "print(np.argmin(data.mean()), np.min(data.mean()))\n",
    "print(np.argmax(data.mean()), np.max(data.mean()))"
   ]
  },
  {
   "cell_type": "code",
   "execution_count": null,
   "metadata": {},
   "outputs": [],
   "source": [
    "data.mean().plot(kind='bar')"
   ]
  },
  {
   "cell_type": "code",
   "execution_count": null,
   "metadata": {},
   "outputs": [],
   "source": [
    "data['SUS2'].mean()"
   ]
  },
  {
   "cell_type": "code",
   "execution_count": null,
   "metadata": {},
   "outputs": [],
   "source": [
    "print(\"Top Absolute Correlations\")\n",
    "print(get_top_abs_correlations(data, 5))"
   ]
  },
  {
   "cell_type": "code",
   "execution_count": null,
   "metadata": {},
   "outputs": [],
   "source": [
    "data = data_handler_use.dataset[data_handler_use.dataset[\"group\"].isin([2,3])].iloc[:,-10:]\n",
    "odd_data = data.iloc[:,[0,2,4,6,8]] - 1\n",
    "even_data = 5 - data.iloc[:,[1,3,5,7,9]]\n",
    "data = pd.concat([odd_data, even_data], axis=1, sort=False)"
   ]
  },
  {
   "cell_type": "code",
   "execution_count": null,
   "metadata": {},
   "outputs": [],
   "source": [
    "print(\"Top Absolute Correlations\")\n",
    "print(get_top_abs_correlations(data, 5))"
   ]
  },
  {
   "cell_type": "code",
   "execution_count": null,
   "metadata": {},
   "outputs": [],
   "source": []
  },
  {
   "cell_type": "code",
   "execution_count": null,
   "metadata": {},
   "outputs": [],
   "source": []
  }
 ],
 "metadata": {
  "kernelspec": {
   "display_name": "Python 3",
   "language": "python",
   "name": "python3"
  },
  "language_info": {
   "codemirror_mode": {
    "name": "ipython",
    "version": 3
   },
   "file_extension": ".py",
   "mimetype": "text/x-python",
   "name": "python",
   "nbconvert_exporter": "python",
   "pygments_lexer": "ipython3",
   "version": "3.7.2"
  },
  "widgets": {
   "state": {},
   "version": "1.1.2"
  }
 },
 "nbformat": 4,
 "nbformat_minor": 2
}
