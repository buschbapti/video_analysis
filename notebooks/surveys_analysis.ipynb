{
 "cells": [
  {
   "cell_type": "code",
   "execution_count": 75,
   "metadata": {},
   "outputs": [],
   "source": [
    "from os.path import join\n",
    "from bokeh.io import show, output_notebook, push_notebook, output_file\n",
    "from bokeh.application.handlers import FunctionHandler\n",
    "from bokeh.application import Application\n",
    "from bokeh.colors import RGB\n",
    "from dataset_handler.dataset_handler import DatasetHandler\n",
    "\n",
    "from itertools import combinations\n",
    "import numpy as np\n",
    "import matplotlib.pyplot as plt\n",
    "import pandas as pd"
   ]
  },
  {
   "cell_type": "code",
   "execution_count": 76,
   "metadata": {},
   "outputs": [
    {
     "data": {
      "text/html": [
       "\n",
       "    <div class=\"bk-root\">\n",
       "        <a href=\"https://bokeh.pydata.org\" target=\"_blank\" class=\"bk-logo bk-logo-small bk-logo-notebook\"></a>\n",
       "        <span id=\"36925\">Loading BokehJS ...</span>\n",
       "    </div>"
      ]
     },
     "metadata": {},
     "output_type": "display_data"
    },
    {
     "data": {
      "application/javascript": [
       "\n",
       "(function(root) {\n",
       "  function now() {\n",
       "    return new Date();\n",
       "  }\n",
       "\n",
       "  var force = true;\n",
       "\n",
       "  if (typeof (root._bokeh_onload_callbacks) === \"undefined\" || force === true) {\n",
       "    root._bokeh_onload_callbacks = [];\n",
       "    root._bokeh_is_loading = undefined;\n",
       "  }\n",
       "\n",
       "  var JS_MIME_TYPE = 'application/javascript';\n",
       "  var HTML_MIME_TYPE = 'text/html';\n",
       "  var EXEC_MIME_TYPE = 'application/vnd.bokehjs_exec.v0+json';\n",
       "  var CLASS_NAME = 'output_bokeh rendered_html';\n",
       "\n",
       "  /**\n",
       "   * Render data to the DOM node\n",
       "   */\n",
       "  function render(props, node) {\n",
       "    var script = document.createElement(\"script\");\n",
       "    node.appendChild(script);\n",
       "  }\n",
       "\n",
       "  /**\n",
       "   * Handle when an output is cleared or removed\n",
       "   */\n",
       "  function handleClearOutput(event, handle) {\n",
       "    var cell = handle.cell;\n",
       "\n",
       "    var id = cell.output_area._bokeh_element_id;\n",
       "    var server_id = cell.output_area._bokeh_server_id;\n",
       "    // Clean up Bokeh references\n",
       "    if (id != null && id in Bokeh.index) {\n",
       "      Bokeh.index[id].model.document.clear();\n",
       "      delete Bokeh.index[id];\n",
       "    }\n",
       "\n",
       "    if (server_id !== undefined) {\n",
       "      // Clean up Bokeh references\n",
       "      var cmd = \"from bokeh.io.state import curstate; print(curstate().uuid_to_server['\" + server_id + \"'].get_sessions()[0].document.roots[0]._id)\";\n",
       "      cell.notebook.kernel.execute(cmd, {\n",
       "        iopub: {\n",
       "          output: function(msg) {\n",
       "            var id = msg.content.text.trim();\n",
       "            if (id in Bokeh.index) {\n",
       "              Bokeh.index[id].model.document.clear();\n",
       "              delete Bokeh.index[id];\n",
       "            }\n",
       "          }\n",
       "        }\n",
       "      });\n",
       "      // Destroy server and session\n",
       "      var cmd = \"import bokeh.io.notebook as ion; ion.destroy_server('\" + server_id + \"')\";\n",
       "      cell.notebook.kernel.execute(cmd);\n",
       "    }\n",
       "  }\n",
       "\n",
       "  /**\n",
       "   * Handle when a new output is added\n",
       "   */\n",
       "  function handleAddOutput(event, handle) {\n",
       "    var output_area = handle.output_area;\n",
       "    var output = handle.output;\n",
       "\n",
       "    // limit handleAddOutput to display_data with EXEC_MIME_TYPE content only\n",
       "    if ((output.output_type != \"display_data\") || (!output.data.hasOwnProperty(EXEC_MIME_TYPE))) {\n",
       "      return\n",
       "    }\n",
       "\n",
       "    var toinsert = output_area.element.find(\".\" + CLASS_NAME.split(' ')[0]);\n",
       "\n",
       "    if (output.metadata[EXEC_MIME_TYPE][\"id\"] !== undefined) {\n",
       "      toinsert[toinsert.length - 1].firstChild.textContent = output.data[JS_MIME_TYPE];\n",
       "      // store reference to embed id on output_area\n",
       "      output_area._bokeh_element_id = output.metadata[EXEC_MIME_TYPE][\"id\"];\n",
       "    }\n",
       "    if (output.metadata[EXEC_MIME_TYPE][\"server_id\"] !== undefined) {\n",
       "      var bk_div = document.createElement(\"div\");\n",
       "      bk_div.innerHTML = output.data[HTML_MIME_TYPE];\n",
       "      var script_attrs = bk_div.children[0].attributes;\n",
       "      for (var i = 0; i < script_attrs.length; i++) {\n",
       "        toinsert[toinsert.length - 1].firstChild.setAttribute(script_attrs[i].name, script_attrs[i].value);\n",
       "      }\n",
       "      // store reference to server id on output_area\n",
       "      output_area._bokeh_server_id = output.metadata[EXEC_MIME_TYPE][\"server_id\"];\n",
       "    }\n",
       "  }\n",
       "\n",
       "  function register_renderer(events, OutputArea) {\n",
       "\n",
       "    function append_mime(data, metadata, element) {\n",
       "      // create a DOM node to render to\n",
       "      var toinsert = this.create_output_subarea(\n",
       "        metadata,\n",
       "        CLASS_NAME,\n",
       "        EXEC_MIME_TYPE\n",
       "      );\n",
       "      this.keyboard_manager.register_events(toinsert);\n",
       "      // Render to node\n",
       "      var props = {data: data, metadata: metadata[EXEC_MIME_TYPE]};\n",
       "      render(props, toinsert[toinsert.length - 1]);\n",
       "      element.append(toinsert);\n",
       "      return toinsert\n",
       "    }\n",
       "\n",
       "    /* Handle when an output is cleared or removed */\n",
       "    events.on('clear_output.CodeCell', handleClearOutput);\n",
       "    events.on('delete.Cell', handleClearOutput);\n",
       "\n",
       "    /* Handle when a new output is added */\n",
       "    events.on('output_added.OutputArea', handleAddOutput);\n",
       "\n",
       "    /**\n",
       "     * Register the mime type and append_mime function with output_area\n",
       "     */\n",
       "    OutputArea.prototype.register_mime_type(EXEC_MIME_TYPE, append_mime, {\n",
       "      /* Is output safe? */\n",
       "      safe: true,\n",
       "      /* Index of renderer in `output_area.display_order` */\n",
       "      index: 0\n",
       "    });\n",
       "  }\n",
       "\n",
       "  // register the mime type if in Jupyter Notebook environment and previously unregistered\n",
       "  if (root.Jupyter !== undefined) {\n",
       "    var events = require('base/js/events');\n",
       "    var OutputArea = require('notebook/js/outputarea').OutputArea;\n",
       "\n",
       "    if (OutputArea.prototype.mime_types().indexOf(EXEC_MIME_TYPE) == -1) {\n",
       "      register_renderer(events, OutputArea);\n",
       "    }\n",
       "  }\n",
       "\n",
       "  \n",
       "  if (typeof (root._bokeh_timeout) === \"undefined\" || force === true) {\n",
       "    root._bokeh_timeout = Date.now() + 5000;\n",
       "    root._bokeh_failed_load = false;\n",
       "  }\n",
       "\n",
       "  var NB_LOAD_WARNING = {'data': {'text/html':\n",
       "     \"<div style='background-color: #fdd'>\\n\"+\n",
       "     \"<p>\\n\"+\n",
       "     \"BokehJS does not appear to have successfully loaded. If loading BokehJS from CDN, this \\n\"+\n",
       "     \"may be due to a slow or bad network connection. Possible fixes:\\n\"+\n",
       "     \"</p>\\n\"+\n",
       "     \"<ul>\\n\"+\n",
       "     \"<li>re-rerun `output_notebook()` to attempt to load from CDN again, or</li>\\n\"+\n",
       "     \"<li>use INLINE resources instead, as so:</li>\\n\"+\n",
       "     \"</ul>\\n\"+\n",
       "     \"<code>\\n\"+\n",
       "     \"from bokeh.resources import INLINE\\n\"+\n",
       "     \"output_notebook(resources=INLINE)\\n\"+\n",
       "     \"</code>\\n\"+\n",
       "     \"</div>\"}};\n",
       "\n",
       "  function display_loaded() {\n",
       "    var el = document.getElementById(\"36925\");\n",
       "    if (el != null) {\n",
       "      el.textContent = \"BokehJS is loading...\";\n",
       "    }\n",
       "    if (root.Bokeh !== undefined) {\n",
       "      if (el != null) {\n",
       "        el.textContent = \"BokehJS \" + root.Bokeh.version + \" successfully loaded.\";\n",
       "      }\n",
       "    } else if (Date.now() < root._bokeh_timeout) {\n",
       "      setTimeout(display_loaded, 100)\n",
       "    }\n",
       "  }\n",
       "\n",
       "\n",
       "  function run_callbacks() {\n",
       "    try {\n",
       "      root._bokeh_onload_callbacks.forEach(function(callback) { callback() });\n",
       "    }\n",
       "    finally {\n",
       "      delete root._bokeh_onload_callbacks\n",
       "    }\n",
       "    console.info(\"Bokeh: all callbacks have finished\");\n",
       "  }\n",
       "\n",
       "  function load_libs(js_urls, callback) {\n",
       "    root._bokeh_onload_callbacks.push(callback);\n",
       "    if (root._bokeh_is_loading > 0) {\n",
       "      console.log(\"Bokeh: BokehJS is being loaded, scheduling callback at\", now());\n",
       "      return null;\n",
       "    }\n",
       "    if (js_urls == null || js_urls.length === 0) {\n",
       "      run_callbacks();\n",
       "      return null;\n",
       "    }\n",
       "    console.log(\"Bokeh: BokehJS not loaded, scheduling load and callback at\", now());\n",
       "    root._bokeh_is_loading = js_urls.length;\n",
       "    for (var i = 0; i < js_urls.length; i++) {\n",
       "      var url = js_urls[i];\n",
       "      var s = document.createElement('script');\n",
       "      s.src = url;\n",
       "      s.async = false;\n",
       "      s.onreadystatechange = s.onload = function() {\n",
       "        root._bokeh_is_loading--;\n",
       "        if (root._bokeh_is_loading === 0) {\n",
       "          console.log(\"Bokeh: all BokehJS libraries loaded\");\n",
       "          run_callbacks()\n",
       "        }\n",
       "      };\n",
       "      s.onerror = function() {\n",
       "        console.warn(\"failed to load library \" + url);\n",
       "      };\n",
       "      console.log(\"Bokeh: injecting script tag for BokehJS library: \", url);\n",
       "      document.getElementsByTagName(\"head\")[0].appendChild(s);\n",
       "    }\n",
       "  };var element = document.getElementById(\"36925\");\n",
       "  if (element == null) {\n",
       "    console.log(\"Bokeh: ERROR: autoload.js configured with elementid '36925' but no matching script tag was found. \")\n",
       "    return false;\n",
       "  }\n",
       "\n",
       "  var js_urls = [\"https://cdn.pydata.org/bokeh/release/bokeh-1.0.4.min.js\", \"https://cdn.pydata.org/bokeh/release/bokeh-widgets-1.0.4.min.js\", \"https://cdn.pydata.org/bokeh/release/bokeh-tables-1.0.4.min.js\", \"https://cdn.pydata.org/bokeh/release/bokeh-gl-1.0.4.min.js\"];\n",
       "\n",
       "  var inline_js = [\n",
       "    function(Bokeh) {\n",
       "      Bokeh.set_log_level(\"info\");\n",
       "    },\n",
       "    \n",
       "    function(Bokeh) {\n",
       "      \n",
       "    },\n",
       "    function(Bokeh) {\n",
       "      console.log(\"Bokeh: injecting CSS: https://cdn.pydata.org/bokeh/release/bokeh-1.0.4.min.css\");\n",
       "      Bokeh.embed.inject_css(\"https://cdn.pydata.org/bokeh/release/bokeh-1.0.4.min.css\");\n",
       "      console.log(\"Bokeh: injecting CSS: https://cdn.pydata.org/bokeh/release/bokeh-widgets-1.0.4.min.css\");\n",
       "      Bokeh.embed.inject_css(\"https://cdn.pydata.org/bokeh/release/bokeh-widgets-1.0.4.min.css\");\n",
       "      console.log(\"Bokeh: injecting CSS: https://cdn.pydata.org/bokeh/release/bokeh-tables-1.0.4.min.css\");\n",
       "      Bokeh.embed.inject_css(\"https://cdn.pydata.org/bokeh/release/bokeh-tables-1.0.4.min.css\");\n",
       "    }\n",
       "  ];\n",
       "\n",
       "  function run_inline_js() {\n",
       "    \n",
       "    if ((root.Bokeh !== undefined) || (force === true)) {\n",
       "      for (var i = 0; i < inline_js.length; i++) {\n",
       "        inline_js[i].call(root, root.Bokeh);\n",
       "      }if (force === true) {\n",
       "        display_loaded();\n",
       "      }} else if (Date.now() < root._bokeh_timeout) {\n",
       "      setTimeout(run_inline_js, 100);\n",
       "    } else if (!root._bokeh_failed_load) {\n",
       "      console.log(\"Bokeh: BokehJS failed to load within specified timeout.\");\n",
       "      root._bokeh_failed_load = true;\n",
       "    } else if (force !== true) {\n",
       "      var cell = $(document.getElementById(\"36925\")).parents('.cell').data().cell;\n",
       "      cell.output_area.append_execute_result(NB_LOAD_WARNING)\n",
       "    }\n",
       "\n",
       "  }\n",
       "\n",
       "  if (root._bokeh_is_loading === 0) {\n",
       "    console.log(\"Bokeh: BokehJS loaded, going straight to plotting\");\n",
       "    run_inline_js();\n",
       "  } else {\n",
       "    load_libs(js_urls, function() {\n",
       "      console.log(\"Bokeh: BokehJS plotting callback run at\", now());\n",
       "      run_inline_js();\n",
       "    });\n",
       "  }\n",
       "}(window));"
      ],
      "application/vnd.bokehjs_load.v0+json": "\n(function(root) {\n  function now() {\n    return new Date();\n  }\n\n  var force = true;\n\n  if (typeof (root._bokeh_onload_callbacks) === \"undefined\" || force === true) {\n    root._bokeh_onload_callbacks = [];\n    root._bokeh_is_loading = undefined;\n  }\n\n  \n\n  \n  if (typeof (root._bokeh_timeout) === \"undefined\" || force === true) {\n    root._bokeh_timeout = Date.now() + 5000;\n    root._bokeh_failed_load = false;\n  }\n\n  var NB_LOAD_WARNING = {'data': {'text/html':\n     \"<div style='background-color: #fdd'>\\n\"+\n     \"<p>\\n\"+\n     \"BokehJS does not appear to have successfully loaded. If loading BokehJS from CDN, this \\n\"+\n     \"may be due to a slow or bad network connection. Possible fixes:\\n\"+\n     \"</p>\\n\"+\n     \"<ul>\\n\"+\n     \"<li>re-rerun `output_notebook()` to attempt to load from CDN again, or</li>\\n\"+\n     \"<li>use INLINE resources instead, as so:</li>\\n\"+\n     \"</ul>\\n\"+\n     \"<code>\\n\"+\n     \"from bokeh.resources import INLINE\\n\"+\n     \"output_notebook(resources=INLINE)\\n\"+\n     \"</code>\\n\"+\n     \"</div>\"}};\n\n  function display_loaded() {\n    var el = document.getElementById(\"36925\");\n    if (el != null) {\n      el.textContent = \"BokehJS is loading...\";\n    }\n    if (root.Bokeh !== undefined) {\n      if (el != null) {\n        el.textContent = \"BokehJS \" + root.Bokeh.version + \" successfully loaded.\";\n      }\n    } else if (Date.now() < root._bokeh_timeout) {\n      setTimeout(display_loaded, 100)\n    }\n  }\n\n\n  function run_callbacks() {\n    try {\n      root._bokeh_onload_callbacks.forEach(function(callback) { callback() });\n    }\n    finally {\n      delete root._bokeh_onload_callbacks\n    }\n    console.info(\"Bokeh: all callbacks have finished\");\n  }\n\n  function load_libs(js_urls, callback) {\n    root._bokeh_onload_callbacks.push(callback);\n    if (root._bokeh_is_loading > 0) {\n      console.log(\"Bokeh: BokehJS is being loaded, scheduling callback at\", now());\n      return null;\n    }\n    if (js_urls == null || js_urls.length === 0) {\n      run_callbacks();\n      return null;\n    }\n    console.log(\"Bokeh: BokehJS not loaded, scheduling load and callback at\", now());\n    root._bokeh_is_loading = js_urls.length;\n    for (var i = 0; i < js_urls.length; i++) {\n      var url = js_urls[i];\n      var s = document.createElement('script');\n      s.src = url;\n      s.async = false;\n      s.onreadystatechange = s.onload = function() {\n        root._bokeh_is_loading--;\n        if (root._bokeh_is_loading === 0) {\n          console.log(\"Bokeh: all BokehJS libraries loaded\");\n          run_callbacks()\n        }\n      };\n      s.onerror = function() {\n        console.warn(\"failed to load library \" + url);\n      };\n      console.log(\"Bokeh: injecting script tag for BokehJS library: \", url);\n      document.getElementsByTagName(\"head\")[0].appendChild(s);\n    }\n  };var element = document.getElementById(\"36925\");\n  if (element == null) {\n    console.log(\"Bokeh: ERROR: autoload.js configured with elementid '36925' but no matching script tag was found. \")\n    return false;\n  }\n\n  var js_urls = [\"https://cdn.pydata.org/bokeh/release/bokeh-1.0.4.min.js\", \"https://cdn.pydata.org/bokeh/release/bokeh-widgets-1.0.4.min.js\", \"https://cdn.pydata.org/bokeh/release/bokeh-tables-1.0.4.min.js\", \"https://cdn.pydata.org/bokeh/release/bokeh-gl-1.0.4.min.js\"];\n\n  var inline_js = [\n    function(Bokeh) {\n      Bokeh.set_log_level(\"info\");\n    },\n    \n    function(Bokeh) {\n      \n    },\n    function(Bokeh) {\n      console.log(\"Bokeh: injecting CSS: https://cdn.pydata.org/bokeh/release/bokeh-1.0.4.min.css\");\n      Bokeh.embed.inject_css(\"https://cdn.pydata.org/bokeh/release/bokeh-1.0.4.min.css\");\n      console.log(\"Bokeh: injecting CSS: https://cdn.pydata.org/bokeh/release/bokeh-widgets-1.0.4.min.css\");\n      Bokeh.embed.inject_css(\"https://cdn.pydata.org/bokeh/release/bokeh-widgets-1.0.4.min.css\");\n      console.log(\"Bokeh: injecting CSS: https://cdn.pydata.org/bokeh/release/bokeh-tables-1.0.4.min.css\");\n      Bokeh.embed.inject_css(\"https://cdn.pydata.org/bokeh/release/bokeh-tables-1.0.4.min.css\");\n    }\n  ];\n\n  function run_inline_js() {\n    \n    if ((root.Bokeh !== undefined) || (force === true)) {\n      for (var i = 0; i < inline_js.length; i++) {\n        inline_js[i].call(root, root.Bokeh);\n      }if (force === true) {\n        display_loaded();\n      }} else if (Date.now() < root._bokeh_timeout) {\n      setTimeout(run_inline_js, 100);\n    } else if (!root._bokeh_failed_load) {\n      console.log(\"Bokeh: BokehJS failed to load within specified timeout.\");\n      root._bokeh_failed_load = true;\n    } else if (force !== true) {\n      var cell = $(document.getElementById(\"36925\")).parents('.cell').data().cell;\n      cell.output_area.append_execute_result(NB_LOAD_WARNING)\n    }\n\n  }\n\n  if (root._bokeh_is_loading === 0) {\n    console.log(\"Bokeh: BokehJS loaded, going straight to plotting\");\n    run_inline_js();\n  } else {\n    load_libs(js_urls, function() {\n      console.log(\"Bokeh: BokehJS plotting callback run at\", now());\n      run_inline_js();\n    });\n  }\n}(window));"
     },
     "metadata": {},
     "output_type": "display_data"
    }
   ],
   "source": [
    "output_notebook()"
   ]
  },
  {
   "cell_type": "code",
   "execution_count": 77,
   "metadata": {},
   "outputs": [],
   "source": [
    "colors_list = [RGB(252,141,89), RGB(255,255,191), RGB(145,191,219)]"
   ]
  },
  {
   "cell_type": "code",
   "execution_count": 78,
   "metadata": {},
   "outputs": [],
   "source": [
    "def get_redundant_pairs(df):\n",
    "    '''Get diagonal and lower triangular pairs of correlation matrix'''\n",
    "    pairs_to_drop = set()\n",
    "    cols = df.columns\n",
    "    for i in range(0, df.shape[1]):\n",
    "        for j in range(0, i+1):\n",
    "            pairs_to_drop.add((cols[i], cols[j]))\n",
    "    return pairs_to_drop\n",
    "\n",
    "def get_top_abs_correlations(df, n=5):\n",
    "    au_corr = df.corr().unstack()\n",
    "    labels_to_drop = get_redundant_pairs(df)\n",
    "    au_corr = au_corr.drop(labels=labels_to_drop).sort_values(ascending=False).dropna()\n",
    "    return au_corr[:n], au_corr[-n:]"
   ]
  },
  {
   "cell_type": "code",
   "execution_count": 79,
   "metadata": {},
   "outputs": [],
   "source": [
    "def plot_bar(X_tec, X_lab, e_tec, e_lab, name):\n",
    "    plt.bar(np.arange(len(X_tec)), X_tec, width=-0.4, align='edge', label='technicians', color='#1b9e77')\n",
    "    plt.errorbar(np.arange(len(X_tec))-0.2, X_tec, yerr=e_tec, fmt='none', color='black', capthick=2)\n",
    "\n",
    "    plt.bar(np.arange(len(X_lab)), X_lab, width=0.4, align='edge', label='lab members', color='#d95f02')\n",
    "    plt.errorbar(np.arange(len(X_lab))+0.2, X_lab, yerr=e_lab, fmt='none', color='black', capthick=2)\n",
    "\n",
    "    plt.ylim(top=5)\n",
    "    plt.legend()\n",
    "\n",
    "    plt.gca().set_position([0, 0, 1, 1])\n",
    "    plt.savefig(name + \".svg\")"
   ]
  },
  {
   "cell_type": "markdown",
   "metadata": {},
   "source": [
    "# Perception results"
   ]
  },
  {
   "cell_type": "code",
   "execution_count": 80,
   "metadata": {},
   "outputs": [],
   "source": [
    "csv_folder = '../data/surveys'\n",
    "csv_files = [join(csv_folder, 'perception_prior.csv'), join(csv_folder, 'perception_after.csv'),\n",
    "             join(csv_folder, 'perception_diff.csv')]"
   ]
  },
  {
   "cell_type": "code",
   "execution_count": 81,
   "metadata": {},
   "outputs": [],
   "source": [
    "#data_handler_percep = DatasetHandler(csv_files, colors_list, ['ANT2', 'ANT4', 'ANI2', 'ANI3', 'ANI4', 'INT2', 'INT4', 'LIKE3', 'SAFE1', 'SAFE3'])\n",
    "data_handler_percep = DatasetHandler(csv_files, colors_list)"
   ]
  },
  {
   "cell_type": "code",
   "execution_count": 82,
   "metadata": {},
   "outputs": [],
   "source": [
    "# Set up an application\n",
    "handler = FunctionHandler(data_handler_percep.modify_doc)\n",
    "app = Application(handler)"
   ]
  },
  {
   "cell_type": "code",
   "execution_count": 83,
   "metadata": {
    "scrolled": false
   },
   "outputs": [
    {
     "data": {
      "application/vnd.bokehjs_exec.v0+json": "",
      "text/html": [
       "\n",
       "<script src=\"http://localhost:45753/autoload.js?bokeh-autoload-element=36926&bokeh-absolute-url=http://localhost:45753&resources=none\" id=\"36926\"></script>"
      ]
     },
     "metadata": {
      "application/vnd.bokehjs_exec.v0+json": {
       "server_id": "08ec2755ace142d3b168321fc8fb9251"
      }
     },
     "output_type": "display_data"
    }
   ],
   "source": [
    "show(app)"
   ]
  },
  {
   "cell_type": "code",
   "execution_count": 84,
   "metadata": {},
   "outputs": [
    {
     "name": "stdout",
     "output_type": "stream",
     "text": [
      "1.0 1.1547005383792515\n",
      "1.6666666666666667 0.9428090415820634\n"
     ]
    }
   ],
   "source": [
    "data = data_handler_percep.dataset[data_handler_percep.dataset[\"type\"]==0]\n",
    "data = data[data[\"group\"]==2]['ANT4'] - 1\n",
    "print(np.mean(data), np.std(data))\n",
    "data = data_handler_percep.dataset[data_handler_percep.dataset[\"type\"]==1]\n",
    "data = data[data[\"group\"]==2]['ANT4'] - 1\n",
    "print(np.mean(data), np.std(data))"
   ]
  },
  {
   "cell_type": "code",
   "execution_count": 85,
   "metadata": {},
   "outputs": [
    {
     "name": "stdout",
     "output_type": "stream",
     "text": [
      "1.5 0.7637626158259734\n",
      "2.1666666666666665 0.6871842709362768\n"
     ]
    }
   ],
   "source": [
    "data = data_handler_percep.dataset[data_handler_percep.dataset[\"type\"]==0]\n",
    "data = data[data[\"group\"]==2]['ANI6'] - 1\n",
    "print(np.mean(data), np.std(data))\n",
    "data = data_handler_percep.dataset[data_handler_percep.dataset[\"type\"]==1]\n",
    "data = data[data[\"group\"]==2]['ANI6'] - 1\n",
    "print(np.mean(data), np.std(data))"
   ]
  },
  {
   "cell_type": "code",
   "execution_count": 86,
   "metadata": {},
   "outputs": [
    {
     "name": "stdout",
     "output_type": "stream",
     "text": [
      "2.0 0.5345224838248488\n",
      "1.2857142857142858 0.45175395145262565\n"
     ]
    }
   ],
   "source": [
    "data = data_handler_percep.dataset[data_handler_percep.dataset[\"type\"]==0]\n",
    "data = data[data[\"group\"]==3]['INT1'] - 1\n",
    "print(np.mean(data), np.std(data))\n",
    "data = data_handler_percep.dataset[data_handler_percep.dataset[\"type\"]==1]\n",
    "data = data[data[\"group\"]==3]['INT1'] - 1\n",
    "print(np.mean(data), np.std(data))"
   ]
  },
  {
   "cell_type": "code",
   "execution_count": 87,
   "metadata": {},
   "outputs": [
    {
     "name": "stdout",
     "output_type": "stream",
     "text": [
      "1.8571428571428572 0.989743318610787\n",
      "1.0 0.5345224838248488\n"
     ]
    }
   ],
   "source": [
    "data = data_handler_percep.dataset[data_handler_percep.dataset[\"type\"]==0]\n",
    "data = data[data[\"group\"]==3]['INT4'] - 1\n",
    "print(np.mean(data), np.std(data))\n",
    "data = data_handler_percep.dataset[data_handler_percep.dataset[\"type\"]==1]\n",
    "data = data[data[\"group\"]==3]['INT4'] - 1\n",
    "print(np.mean(data), np.std(data))"
   ]
  },
  {
   "cell_type": "code",
   "execution_count": 88,
   "metadata": {},
   "outputs": [],
   "source": [
    "data = data_handler_percep.dataset[data_handler_percep.dataset[\"type\"]==1]\n",
    "data = data[data[\"group\"]==2].iloc[:, -24:] - 1"
   ]
  },
  {
   "cell_type": "code",
   "execution_count": 89,
   "metadata": {},
   "outputs": [
    {
     "name": "stdout",
     "output_type": "stream",
     "text": [
      "ANI2 1.0\n",
      "LIKE4 2.5\n"
     ]
    }
   ],
   "source": [
    "print(np.argmin(data.mean()), np.min(data.mean()))\n",
    "print(np.argmax(data.mean()), np.max(data.mean()))"
   ]
  },
  {
   "cell_type": "code",
   "execution_count": 90,
   "metadata": {},
   "outputs": [],
   "source": [
    "X_tec = []\n",
    "X_tec.append(np.mean(data.iloc[:,:5].values))\n",
    "X_tec.append(np.mean(data.iloc[:,5:11].values))\n",
    "X_tec.append(np.mean(data.iloc[:,11:16].values))\n",
    "X_tec.append(np.mean(data.iloc[:,16:21].values))\n",
    "X_tec.append(np.mean(data.iloc[:,21:].values))\n",
    "\n",
    "X_tec_anth = data.iloc[:,:5].mean()\n",
    "X_tec_anim = data.iloc[:,5:11].mean()\n",
    "X_tec_like = data.iloc[:,11:16].mean()\n",
    "X_tec_intel = data.iloc[:,16:21].mean()\n",
    "X_tec_safe = data.iloc[:,21:].mean()\n",
    "\n",
    "e_tec = []\n",
    "e_tec.append(np.std(data.iloc[:,:5].values))\n",
    "e_tec.append(np.std(data.iloc[:,5:11].values))\n",
    "e_tec.append(np.std(data.iloc[:,11:16].values))\n",
    "e_tec.append(np.std(data.iloc[:,16:21].values))\n",
    "e_tec.append(np.std(data.iloc[:,21:].values))\n",
    "\n",
    "e_tec_anth = data.iloc[:,:5].std()\n",
    "e_tec_anim = data.iloc[:,5:11].std()\n",
    "e_tec_like = data.iloc[:,11:16].std()\n",
    "e_tec_intel = data.iloc[:,11:16].std()\n",
    "e_tec_safe = data.iloc[:,21:].std()"
   ]
  },
  {
   "cell_type": "code",
   "execution_count": 91,
   "metadata": {},
   "outputs": [],
   "source": [
    "data = data_handler_percep.dataset[data_handler_percep.dataset[\"type\"]==1]\n",
    "data = data[data[\"group\"]==3].iloc[:, -24:] - 1"
   ]
  },
  {
   "cell_type": "code",
   "execution_count": 92,
   "metadata": {},
   "outputs": [
    {
     "name": "stdout",
     "output_type": "stream",
     "text": [
      "ANI4 0.7142857142857143\n",
      "LIKE1 2.5714285714285716\n"
     ]
    }
   ],
   "source": [
    "print(np.argmin(data.mean()), np.min(data.mean()))\n",
    "print(np.argmax(data.mean()), np.max(data.mean()))"
   ]
  },
  {
   "cell_type": "code",
   "execution_count": 93,
   "metadata": {},
   "outputs": [],
   "source": [
    "X_lab = []\n",
    "X_lab.append(np.mean(data.iloc[:,:5].values))\n",
    "X_lab.append(np.mean(data.iloc[:,5:11].values))\n",
    "X_lab.append(np.mean(data.iloc[:,11:16].values))\n",
    "X_lab.append(np.mean(data.iloc[:,16:21].values))\n",
    "X_lab.append(np.mean(data.iloc[:,21:].values))\n",
    "\n",
    "X_lab_anth = data.iloc[:,:5].mean()\n",
    "X_lab_anim = data.iloc[:,5:11].mean()\n",
    "X_lab_like = data.iloc[:,11:16].mean()\n",
    "X_lab_intel = data.iloc[:,16:21].mean()\n",
    "X_lab_safe = data.iloc[:,21:].mean()\n",
    "\n",
    "e_lab = []\n",
    "e_lab.append(np.std(data.iloc[:,:5].values))\n",
    "e_lab.append(np.std(data.iloc[:,5:11].values))\n",
    "e_lab.append(np.std(data.iloc[:,11:16].values))\n",
    "e_lab.append(np.std(data.iloc[:,16:21].values))\n",
    "e_lab.append(np.std(data.iloc[:,21:].values))\n",
    "\n",
    "e_lab_anth = data.iloc[:,:5].std()\n",
    "e_lab_anim = data.iloc[:,5:11].std()\n",
    "e_lab_like = data.iloc[:,11:16].std()\n",
    "e_lab_intel = data.iloc[:,16:21].std()\n",
    "e_lab_safe = data.iloc[:,21:].std()"
   ]
  },
  {
   "cell_type": "code",
   "execution_count": 94,
   "metadata": {},
   "outputs": [
    {
     "data": {
      "image/png": "[encoded data removed]",
      "text/plain": [
       "<Figure size 432x288 with 1 Axes>"
      ]
     },
     "metadata": {
      "needs_background": "light"
     },
     "output_type": "display_data"
    }
   ],
   "source": [
    "plot_bar(X_tec, X_lab, e_tec, e_lab, 'perception')"
   ]
  },
  {
   "cell_type": "code",
   "execution_count": 95,
   "metadata": {},
   "outputs": [
    {
     "data": {
      "image/png": "[encoded data removed]",
      "text/plain": [
       "<Figure size 432x288 with 1 Axes>"
      ]
     },
     "metadata": {
      "needs_background": "light"
     },
     "output_type": "display_data"
    }
   ],
   "source": [
    "plot_bar(X_tec_anth, X_lab_anth, e_tec_anth, e_lab_anth, 'anthropomorphism')"
   ]
  },
  {
   "cell_type": "code",
   "execution_count": 96,
   "metadata": {},
   "outputs": [
    {
     "data": {
      "image/png": "[encoded data removed]",
      "text/plain": [
       "<Figure size 432x288 with 1 Axes>"
      ]
     },
     "metadata": {
      "needs_background": "light"
     },
     "output_type": "display_data"
    }
   ],
   "source": [
    "plot_bar(X_tec_anim, X_lab_anim, e_tec_anim, e_lab_anim, 'animacy')"
   ]
  },
  {
   "cell_type": "code",
   "execution_count": 97,
   "metadata": {},
   "outputs": [
    {
     "data": {
      "image/png": "[encoded data removed]",
      "text/plain": [
       "<Figure size 432x288 with 1 Axes>"
      ]
     },
     "metadata": {
      "needs_background": "light"
     },
     "output_type": "display_data"
    }
   ],
   "source": [
    "plot_bar(X_tec_like, X_lab_like, e_tec_like, e_lab_like, 'likeability')"
   ]
  },
  {
   "cell_type": "code",
   "execution_count": 98,
   "metadata": {},
   "outputs": [
    {
     "data": {
      "image/png": "[encoded data removed]",
      "text/plain": [
       "<Figure size 432x288 with 1 Axes>"
      ]
     },
     "metadata": {
      "needs_background": "light"
     },
     "output_type": "display_data"
    }
   ],
   "source": [
    "plot_bar(X_tec_intel, X_lab_intel, e_tec_intel, e_lab_intel, 'intelligence')"
   ]
  },
  {
   "cell_type": "code",
   "execution_count": 40,
   "metadata": {},
   "outputs": [
    {
     "data": {
      "image/png": "[encoded data removed]",
      "text/plain": [
       "<Figure size 432x288 with 1 Axes>"
      ]
     },
     "metadata": {
      "needs_background": "light"
     },
     "output_type": "display_data"
    }
   ],
   "source": [
    "plot_bar(X_tec_safe, X_lab_safe, e_tec_safe, e_lab_safe, 'safety')"
   ]
  },
  {
   "cell_type": "code",
   "execution_count": 41,
   "metadata": {},
   "outputs": [],
   "source": [
    "data = data_handler_percep.dataset[data_handler_percep.dataset[\"type\"]==1]\n",
    "data = data[data[\"group\"]==2].iloc[:, -24:] - 1"
   ]
  },
  {
   "cell_type": "code",
   "execution_count": 42,
   "metadata": {
    "scrolled": true
   },
   "outputs": [
    {
     "name": "stdout",
     "output_type": "stream",
     "text": [
      "Top Absolute Correlations\n",
      "(LIKE3  LIKE5    1.000000\n",
      "INT2   INT4     1.000000\n",
      "LIKE4  INT2     0.894427\n",
      "ANI2   INT1     0.894427\n",
      "LIKE4  INT4     0.894427\n",
      "       INT1     0.894427\n",
      "ANT3   ANT4     0.875000\n",
      "ANT2   ANT4     0.869626\n",
      "LIKE1  SAFE1    0.867722\n",
      "LIKE2  LIKE3    0.857493\n",
      "dtype: float64, ANI4   LIKE5   -0.632456\n",
      "       LIKE3   -0.632456\n",
      "LIKE2  SAFE2   -0.647059\n",
      "ANI1   ANI3    -0.685994\n",
      "ANT2   ANI3    -0.759257\n",
      "ANI3   INT5    -0.759257\n",
      "       ANI6    -0.764706\n",
      "ANT3   ANI3    -0.857493\n",
      "ANI3   ANI4    -0.867722\n",
      "ANT4   ANI3    -0.943242\n",
      "dtype: float64)\n"
     ]
    }
   ],
   "source": [
    "print(\"Top Absolute Correlations\")\n",
    "print(get_top_abs_correlations(data, 10))"
   ]
  },
  {
   "cell_type": "code",
   "execution_count": 43,
   "metadata": {},
   "outputs": [],
   "source": [
    "data = data_handler_percep.dataset[data_handler_percep.dataset[\"type\"]==1]\n",
    "data = data[data[\"group\"]==3].iloc[:, -24:] - 1"
   ]
  },
  {
   "cell_type": "code",
   "execution_count": 44,
   "metadata": {},
   "outputs": [
    {
     "name": "stdout",
     "output_type": "stream",
     "text": [
      "Top Absolute Correlations\n",
      "(ANT1   ANT3     0.917249\n",
      "ANT3   ANT4     0.887412\n",
      "INT2   SAFE2    0.883883\n",
      "ANT4   INT2     0.867227\n",
      "ANI1   LIKE1    0.863462\n",
      "ANI3   ANI4     0.848528\n",
      "INT4   SAFE3    0.836660\n",
      "ANT4   INT4     0.836660\n",
      "ANT3   ANI4     0.836660\n",
      "LIKE2  LIKE3    0.823545\n",
      "dtype: float64, INT4  SAFE1   -0.810093\n",
      "ANT2  LIKE3   -0.823545\n",
      "INT1  INT3    -0.848528\n",
      "ANI4  SAFE1   -0.867227\n",
      "INT1  INT5    -0.872082\n",
      "ANT1  SAFE1   -0.880705\n",
      "INT2  SAFE1   -0.883883\n",
      "ANT4  SAFE1   -0.935971\n",
      "ANT3  SAFE1   -0.954703\n",
      "ANT2  LIKE2   -1.000000\n",
      "dtype: float64)\n"
     ]
    }
   ],
   "source": [
    "print(\"Top Absolute Correlations\")\n",
    "print(get_top_abs_correlations(data, 10))"
   ]
  },
  {
   "cell_type": "code",
   "execution_count": 45,
   "metadata": {},
   "outputs": [],
   "source": [
    "data = data_handler_percep.dataset[data_handler_percep.dataset[\"type\"]==1]\n",
    "data = data[data[\"group\"].isin([2,3])].iloc[:, -24:] - 1"
   ]
  },
  {
   "cell_type": "code",
   "execution_count": 46,
   "metadata": {},
   "outputs": [
    {
     "name": "stdout",
     "output_type": "stream",
     "text": [
      "Top Absolute Correlations\n",
      "(INT2   INT4     0.879599\n",
      "ANT3   ANT4     0.824322\n",
      "LIKE3  LIKE5    0.788663\n",
      "LIKE4  LIKE5    0.767959\n",
      "LIKE3  LIKE4    0.752420\n",
      "ANT3   ANI4     0.746203\n",
      "ANT4   ANI4     0.745665\n",
      "LIKE2  LIKE3    0.741402\n",
      "ANI1   LIKE1    0.717314\n",
      "ANT2   ANT4     0.708371\n",
      "dtype: float64, ANT5   LIKE5   -0.486834\n",
      "ANT1   SAFE1   -0.524901\n",
      "SAFE1  SAFE3   -0.546463\n",
      "ANT1   LIKE3   -0.549102\n",
      "ANT5   LIKE3   -0.580434\n",
      "ANI3   SAFE1   -0.581843\n",
      "ANT5   SAFE1   -0.586339\n",
      "ANI3   ANI6    -0.588784\n",
      "SAFE1  SAFE2   -0.591608\n",
      "ANT3   SAFE1   -0.665772\n",
      "dtype: float64)\n"
     ]
    }
   ],
   "source": [
    "print(\"Top Absolute Correlations\")\n",
    "print(get_top_abs_correlations(data, 10))"
   ]
  },
  {
   "cell_type": "markdown",
   "metadata": {},
   "source": [
    "# Usability results"
   ]
  },
  {
   "cell_type": "code",
   "execution_count": 47,
   "metadata": {},
   "outputs": [],
   "source": [
    "csv_folder = '../data/surveys'\n",
    "csv_files = [join(csv_folder, 'usability.csv')]"
   ]
  },
  {
   "cell_type": "code",
   "execution_count": 48,
   "metadata": {},
   "outputs": [],
   "source": [
    "data_handler_use = DatasetHandler(csv_files, colors_list)"
   ]
  },
  {
   "cell_type": "code",
   "execution_count": 49,
   "metadata": {},
   "outputs": [],
   "source": [
    "# Set up an application\n",
    "handler = FunctionHandler(data_handler_use.modify_doc)\n",
    "app = Application(handler)"
   ]
  },
  {
   "cell_type": "code",
   "execution_count": 50,
   "metadata": {},
   "outputs": [
    {
     "data": {
      "application/vnd.bokehjs_exec.v0+json": "",
      "text/html": [
       "\n",
       "<script src=\"http://localhost:36539/autoload.js?bokeh-autoload-element=15257&bokeh-absolute-url=http://localhost:36539&resources=none\" id=\"15257\"></script>"
      ]
     },
     "metadata": {
      "application/vnd.bokehjs_exec.v0+json": {
       "server_id": "dd2b04a19c6146a2b7963d6698ef2dfc"
      }
     },
     "output_type": "display_data"
    }
   ],
   "source": [
    "show(app)"
   ]
  },
  {
   "cell_type": "code",
   "execution_count": 51,
   "metadata": {},
   "outputs": [],
   "source": [
    "data = data_handler_use.dataset[data_handler_use.dataset[\"group\"]==2].iloc[:,-10:]\n",
    "odd_data = data.iloc[:,[0,2,4,6,8]] - 1\n",
    "even_data = 5 - data.iloc[:,[1,3,5,7,9]]\n",
    "data = pd.concat([odd_data, even_data], axis=1, sort=False)\n",
    "data = data.sort_index(axis=1)"
   ]
  },
  {
   "cell_type": "code",
   "execution_count": 52,
   "metadata": {},
   "outputs": [
    {
     "name": "stdout",
     "output_type": "stream",
     "text": [
      "54.166666666666664 11.426091000668407\n"
     ]
    }
   ],
   "source": [
    "score = data.sum(axis=1)*2.5\n",
    "print(np.mean(score), np.std(score))"
   ]
  },
  {
   "cell_type": "code",
   "execution_count": 53,
   "metadata": {},
   "outputs": [],
   "source": [
    "X_tec = data.mean()[np.array([0,2,3,4,5,6,7,8,9,1])]\n",
    "e_tec = data.std()[np.array([0,2,3,4,5,6,7,8,9,1])]"
   ]
  },
  {
   "cell_type": "code",
   "execution_count": 54,
   "metadata": {},
   "outputs": [
    {
     "name": "stdout",
     "output_type": "stream",
     "text": [
      "SUS9 1.6666666666666667\n",
      "SUS10 2.8333333333333335\n"
     ]
    }
   ],
   "source": [
    "print(np.argmin(data.mean()), np.min(data.mean()))\n",
    "print(np.argmax(data.mean()), np.max(data.mean()))"
   ]
  },
  {
   "cell_type": "code",
   "execution_count": 55,
   "metadata": {},
   "outputs": [
    {
     "name": "stdout",
     "output_type": "stream",
     "text": [
      "2.1666666666666665 1.4719601443879744\n"
     ]
    }
   ],
   "source": [
    "print(data['SUS2'].mean(), data['SUS2'].std())"
   ]
  },
  {
   "cell_type": "code",
   "execution_count": 56,
   "metadata": {},
   "outputs": [
    {
     "name": "stdout",
     "output_type": "stream",
     "text": [
      "Top Absolute Correlations\n",
      "(SUS5   SUS7    0.647059\n",
      "SUS1   SUS2    0.617940\n",
      "SUS2   SUS4    0.607644\n",
      "SUS7   SUS9    0.600245\n",
      "SUS10  SUS9    0.564076\n",
      "dtype: float64, SUS2  SUS6   -0.610170\n",
      "      SUS5   -0.752071\n",
      "SUS6  SUS8   -0.774597\n",
      "SUS4  SUS7   -0.891133\n",
      "      SUS5   -0.891133\n",
      "dtype: float64)\n"
     ]
    }
   ],
   "source": [
    "print(\"Top Absolute Correlations\")\n",
    "print(get_top_abs_correlations(data, 5))"
   ]
  },
  {
   "cell_type": "code",
   "execution_count": 57,
   "metadata": {},
   "outputs": [],
   "source": [
    "data = data_handler_use.dataset[data_handler_use.dataset[\"group\"]==3].iloc[:,-10:]\n",
    "odd_data = data.iloc[:,[0,2,4,6,8]] - 1\n",
    "even_data = 5 - data.iloc[:,[1,3,5,7,9]]\n",
    "data = pd.concat([odd_data, even_data], axis=1, sort=False)\n",
    "data = data.sort_index(axis=1)"
   ]
  },
  {
   "cell_type": "code",
   "execution_count": 58,
   "metadata": {},
   "outputs": [
    {
     "name": "stdout",
     "output_type": "stream",
     "text": [
      "47.5 14.015297764534703\n"
     ]
    }
   ],
   "source": [
    "score = data.sum(axis=1)*2.5\n",
    "print(np.mean(score), np.std(score))"
   ]
  },
  {
   "cell_type": "code",
   "execution_count": 59,
   "metadata": {},
   "outputs": [
    {
     "name": "stdout",
     "output_type": "stream",
     "text": [
      "SUS7 1.0\n",
      "SUS10 2.857142857142857\n"
     ]
    }
   ],
   "source": [
    "print(np.argmin(data.mean()), np.min(data.mean()))\n",
    "print(np.argmax(data.mean()), np.max(data.mean()))"
   ]
  },
  {
   "cell_type": "code",
   "execution_count": 60,
   "metadata": {},
   "outputs": [],
   "source": [
    "X_lab = data.mean()[np.array([0,2,3,4,5,6,7,8,9,1])]\n",
    "e_lab = data.std()[np.array([0,2,3,4,5,6,7,8,9,1])]"
   ]
  },
  {
   "cell_type": "code",
   "execution_count": 61,
   "metadata": {},
   "outputs": [
    {
     "name": "stdout",
     "output_type": "stream",
     "text": [
      "1.4285714285714286 1.2724180205607034\n"
     ]
    }
   ],
   "source": [
    "print(data['SUS2'].mean(), data['SUS2'].std())"
   ]
  },
  {
   "cell_type": "code",
   "execution_count": 62,
   "metadata": {},
   "outputs": [
    {
     "name": "stdout",
     "output_type": "stream",
     "text": [
      "Top Absolute Correlations\n",
      "(SUS3  SUS9    0.806747\n",
      "SUS2  SUS7    0.794050\n",
      "SUS4  SUS7    0.763763\n",
      "      SUS5    0.746816\n",
      "SUS2  SUS4    0.726108\n",
      "dtype: float64, SUS7  SUS9   -0.389156\n",
      "SUS1  SUS5   -0.451869\n",
      "SUS6  SUS9   -0.543928\n",
      "SUS1  SUS6   -0.543928\n",
      "      SUS8   -0.806226\n",
      "dtype: float64)\n"
     ]
    }
   ],
   "source": [
    "print(\"Top Absolute Correlations\")\n",
    "print(get_top_abs_correlations(data, 5))"
   ]
  },
  {
   "cell_type": "code",
   "execution_count": 63,
   "metadata": {},
   "outputs": [],
   "source": [
    "data = data_handler_use.dataset[data_handler_use.dataset[\"group\"].isin([2,3])].iloc[:,-10:]\n",
    "odd_data = data.iloc[:,[0,2,4,6,8]] - 1\n",
    "even_data = 5 - data.iloc[:,[1,3,5,7,9]]\n",
    "data = pd.concat([odd_data, even_data], axis=1, sort=False)"
   ]
  },
  {
   "cell_type": "code",
   "execution_count": 64,
   "metadata": {},
   "outputs": [
    {
     "name": "stdout",
     "output_type": "stream",
     "text": [
      "Top Absolute Correlations\n",
      "(SUS2  SUS4     0.682430\n",
      "SUS5  SUS6     0.541207\n",
      "SUS9  SUS10    0.494168\n",
      "SUS3  SUS10    0.442232\n",
      "SUS2  SUS10    0.414904\n",
      "dtype: float64, SUS1  SUS8   -0.299537\n",
      "      SUS5   -0.320496\n",
      "SUS9  SUS8   -0.361359\n",
      "SUS2  SUS6   -0.402751\n",
      "SUS1  SUS6   -0.537693\n",
      "dtype: float64)\n"
     ]
    }
   ],
   "source": [
    "print(\"Top Absolute Correlations\")\n",
    "print(get_top_abs_correlations(data, 5))"
   ]
  },
  {
   "cell_type": "code",
   "execution_count": 65,
   "metadata": {},
   "outputs": [
    {
     "name": "stdout",
     "output_type": "stream",
     "text": [
      "50.57692307692308 13.30680299385092\n"
     ]
    }
   ],
   "source": [
    "score = data.sum(axis=1)*2.5\n",
    "print(np.mean(score), np.std(score))"
   ]
  },
  {
   "cell_type": "code",
   "execution_count": 66,
   "metadata": {},
   "outputs": [
    {
     "data": {
      "image/png": "[encoded data removed]",
      "text/plain": [
       "<Figure size 432x288 with 1 Axes>"
      ]
     },
     "metadata": {
      "needs_background": "light"
     },
     "output_type": "display_data"
    }
   ],
   "source": [
    "plt.bar(np.arange(len(X_tec)), X_tec, width=-0.4, align='edge', label='technicians', color='#1b9e77')\n",
    "plt.errorbar(np.arange(len(X_tec))-0.2, X_tec, yerr=e_tec, fmt='none', color='black', capthick=2)\n",
    "\n",
    "plt.bar(np.arange(len(X_lab)), X_lab, width=0.4, align='edge', label='lab members', color='#d95f02')\n",
    "plt.errorbar(np.arange(len(X_lab))+0.2, X_lab, yerr=e_lab, fmt='none', color='black', capthick=2)\n",
    "\n",
    "plt.xticks(np.arange(len(X_tec)), ('SUS' + str(i) for i in range(1,11)))\n",
    "plt.ylim(top=5)\n",
    "plt.legend()\n",
    "\n",
    "plt.gca().set_position([0, 0, 1, 1])\n",
    "plt.savefig(\"usability.svg\")"
   ]
  },
  {
   "cell_type": "code",
   "execution_count": null,
   "metadata": {},
   "outputs": [],
   "source": []
  },
  {
   "cell_type": "code",
   "execution_count": 67,
   "metadata": {},
   "outputs": [],
   "source": [
    "data_percept = data_handler_percep.dataset[data_handler_percep.dataset['type'] == 1]\n",
    "data_percept = data_percept[data_percept['group'].isin([2,3])].sort_values('ID')"
   ]
  },
  {
   "cell_type": "code",
   "execution_count": 68,
   "metadata": {},
   "outputs": [],
   "source": [
    "data_percept = pd.concat([data_percept['group'], data_percept.iloc[:,-24:]], axis=1, sort=False)\n",
    "data_percept = data_percept.reset_index()"
   ]
  },
  {
   "cell_type": "code",
   "execution_count": 69,
   "metadata": {},
   "outputs": [],
   "source": [
    "data_use = data_handler_use.dataset[data_handler_use.dataset['group'].isin([2,3])].sort_values('ID').iloc[:,-10:]\n",
    "data_use = data_use.reset_index().iloc[:,1:]"
   ]
  },
  {
   "cell_type": "code",
   "execution_count": 70,
   "metadata": {},
   "outputs": [],
   "source": [
    "data_corr = pd.concat([data_percept, data_use], axis=1, sort=False)"
   ]
  },
  {
   "cell_type": "code",
   "execution_count": 71,
   "metadata": {},
   "outputs": [],
   "source": [
    "data_corr_tec = data_corr[data_corr['group'] == 2].iloc[:,-35:]\n",
    "data_corr_lab = data_corr[data_corr['group'] == 3].iloc[:,-35:]"
   ]
  },
  {
   "cell_type": "code",
   "execution_count": 72,
   "metadata": {},
   "outputs": [
    {
     "name": "stdout",
     "output_type": "stream",
     "text": [
      "Top Absolute Correlations\n",
      "(ANT1   SUS6     1.000000\n",
      "LIKE3  LIKE5    1.000000\n",
      "INT2   INT4     1.000000\n",
      "ANT5   SUS2     0.942990\n",
      "LIKE4  INT1     0.894427\n",
      "ANI2   INT1     0.894427\n",
      "LIKE4  INT4     0.894427\n",
      "       INT2     0.894427\n",
      "SUS4   SUS5     0.891133\n",
      "       SUS7     0.891133\n",
      "dtype: float64, SUS6   SUS8   -0.774597\n",
      "ANI6   SUS3   -0.793884\n",
      "SAFE2  SUS9   -0.857493\n",
      "ANT3   ANI3   -0.857493\n",
      "ANI3   ANI4   -0.867722\n",
      "ANT2   SUS3   -0.878310\n",
      "ANT3   SUS3   -0.925820\n",
      "ANT4   SUS3   -0.925820\n",
      "       ANI3   -0.943242\n",
      "ANI4   SUS1   -0.948091\n",
      "dtype: float64)\n"
     ]
    }
   ],
   "source": [
    "print(\"Top Absolute Correlations\")\n",
    "print(get_top_abs_correlations(data_corr_tec, 10))"
   ]
  },
  {
   "cell_type": "code",
   "execution_count": 73,
   "metadata": {
    "scrolled": true
   },
   "outputs": [
    {
     "name": "stdout",
     "output_type": "stream",
     "text": [
      "Top Absolute Correlations\n",
      "(SAFE2  SUS8     0.935971\n",
      "ANT1   ANT3     0.917249\n",
      "INT1   SUS7     0.887412\n",
      "ANT3   ANT4     0.887412\n",
      "INT2   SAFE2    0.883883\n",
      "SAFE2  SUS1     0.880705\n",
      "INT2   SUS1     0.877515\n",
      "ANT5   SUS8     0.871421\n",
      "INT1   SUS5     0.867722\n",
      "ANT4   INT2     0.867227\n",
      "dtype: float64, INT1  INT5    -0.872082\n",
      "ANT1  SAFE1   -0.880705\n",
      "INT2  SAFE1   -0.883883\n",
      "ANI5  SUS4    -0.903525\n",
      "      SUS2    -0.910182\n",
      "INT5  SUS7    -0.910465\n",
      "ANT4  SAFE1   -0.935971\n",
      "ANT3  SAFE1   -0.954703\n",
      "ANI6  SUS10   -0.983612\n",
      "ANT2  LIKE2   -1.000000\n",
      "dtype: float64)\n"
     ]
    }
   ],
   "source": [
    "print(\"Top Absolute Correlations\")\n",
    "print(get_top_abs_correlations(data_corr_lab, 10))"
   ]
  },
  {
   "cell_type": "code",
   "execution_count": 74,
   "metadata": {},
   "outputs": [
    {
     "name": "stdout",
     "output_type": "stream",
     "text": [
      "Top Absolute Correlations\n",
      "(INT2   INT4     0.879599\n",
      "index  group    0.860934\n",
      "ANT3   ANT4     0.824322\n",
      "LIKE3  LIKE5    0.788663\n",
      "LIKE4  LIKE5    0.767959\n",
      "LIKE3  LIKE4    0.752420\n",
      "SAFE3  SUS6     0.747146\n",
      "ANT3   ANI4     0.746203\n",
      "ANT4   ANI4     0.745665\n",
      "LIKE2  LIKE3    0.741402\n",
      "dtype: float64, ANI3   ANI6    -0.588784\n",
      "SAFE1  SAFE2   -0.591608\n",
      "group  ANI4    -0.617213\n",
      "       ANI5    -0.617213\n",
      "index  SUS6    -0.634068\n",
      "ANI5   SUS2    -0.645942\n",
      "ANT3   SAFE1   -0.665772\n",
      "group  SAFE3   -0.673633\n",
      "ANI5   SUS4    -0.698336\n",
      "index  SAFE3   -0.850977\n",
      "dtype: float64)\n"
     ]
    }
   ],
   "source": [
    "print(\"Top Absolute Correlations\")\n",
    "print(get_top_abs_correlations(data_corr, 10))"
   ]
  },
  {
   "cell_type": "code",
   "execution_count": null,
   "metadata": {},
   "outputs": [],
   "source": []
  },
  {
   "cell_type": "code",
   "execution_count": null,
   "metadata": {},
   "outputs": [],
   "source": []
  },
  {
   "cell_type": "code",
   "execution_count": null,
   "metadata": {},
   "outputs": [],
   "source": []
  }
 ],
 "metadata": {
  "kernelspec": {
   "display_name": "Python 3",
   "language": "python",
   "name": "python3"
  },
  "language_info": {
   "codemirror_mode": {
    "name": "ipython",
    "version": 3
   },
   "file_extension": ".py",
   "mimetype": "text/x-python",
   "name": "python",
   "nbconvert_exporter": "python",
   "pygments_lexer": "ipython3",
   "version": "3.7.2"
  },
  "widgets": {
   "state": {},
   "version": "1.1.2"
  }
 },
 "nbformat": 4,
 "nbformat_minor": 2
}
